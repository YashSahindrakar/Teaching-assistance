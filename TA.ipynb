{
 "cells": [
  {
   "cell_type": "code",
   "execution_count": 1,
   "id": "e1a10f55",
   "metadata": {},
   "outputs": [],
   "source": [
    "import pandas as pd\n",
    "import numpy as np\n",
    "import matplotlib.pyplot as plt\n",
    "import seaborn as sb\n",
    "from matplotlib import rcParams\n",
    "\n",
    "from sklearn.preprocessing import LabelEncoder, MinMaxScaler\n",
    "from sklearn.metrics import accuracy_score, classification_report\n",
    "from sklearn.model_selection import train_test_split"
   ]
  },
  {
   "cell_type": "code",
   "execution_count": 2,
   "id": "5414391a",
   "metadata": {
    "scrolled": true
   },
   "outputs": [
    {
     "name": "stdout",
     "output_type": "stream",
     "text": [
      "No. of rows and columns in the dataset :  (151, 6)\n"
     ]
    },
    {
     "data": {
      "text/html": [
       "<div>\n",
       "<style scoped>\n",
       "    .dataframe tbody tr th:only-of-type {\n",
       "        vertical-align: middle;\n",
       "    }\n",
       "\n",
       "    .dataframe tbody tr th {\n",
       "        vertical-align: top;\n",
       "    }\n",
       "\n",
       "    .dataframe thead th {\n",
       "        text-align: right;\n",
       "    }\n",
       "</style>\n",
       "<table border=\"1\" class=\"dataframe\">\n",
       "  <thead>\n",
       "    <tr style=\"text-align: right;\">\n",
       "      <th></th>\n",
       "      <th>Whether_of_not_the_TA_is_a_native_English_speaker</th>\n",
       "      <th>Course_instructor</th>\n",
       "      <th>Course</th>\n",
       "      <th>Summer_or_regular_semester</th>\n",
       "      <th>Class_size</th>\n",
       "      <th>Class_attribute</th>\n",
       "    </tr>\n",
       "  </thead>\n",
       "  <tbody>\n",
       "    <tr>\n",
       "      <th>0</th>\n",
       "      <td>1</td>\n",
       "      <td>23</td>\n",
       "      <td>3</td>\n",
       "      <td>1</td>\n",
       "      <td>19</td>\n",
       "      <td>3</td>\n",
       "    </tr>\n",
       "    <tr>\n",
       "      <th>1</th>\n",
       "      <td>2</td>\n",
       "      <td>15</td>\n",
       "      <td>3</td>\n",
       "      <td>1</td>\n",
       "      <td>17</td>\n",
       "      <td>3</td>\n",
       "    </tr>\n",
       "    <tr>\n",
       "      <th>2</th>\n",
       "      <td>1</td>\n",
       "      <td>23</td>\n",
       "      <td>3</td>\n",
       "      <td>2</td>\n",
       "      <td>49</td>\n",
       "      <td>3</td>\n",
       "    </tr>\n",
       "    <tr>\n",
       "      <th>3</th>\n",
       "      <td>1</td>\n",
       "      <td>5</td>\n",
       "      <td>2</td>\n",
       "      <td>2</td>\n",
       "      <td>33</td>\n",
       "      <td>3</td>\n",
       "    </tr>\n",
       "    <tr>\n",
       "      <th>4</th>\n",
       "      <td>2</td>\n",
       "      <td>7</td>\n",
       "      <td>11</td>\n",
       "      <td>2</td>\n",
       "      <td>55</td>\n",
       "      <td>3</td>\n",
       "    </tr>\n",
       "  </tbody>\n",
       "</table>\n",
       "</div>"
      ],
      "text/plain": [
       "   Whether_of_not_the_TA_is_a_native_English_speaker  Course_instructor  \\\n",
       "0                                                  1                 23   \n",
       "1                                                  2                 15   \n",
       "2                                                  1                 23   \n",
       "3                                                  1                  5   \n",
       "4                                                  2                  7   \n",
       "\n",
       "   Course  Summer_or_regular_semester  Class_size  Class_attribute  \n",
       "0       3                           1          19                3  \n",
       "1       3                           1          17                3  \n",
       "2       3                           2          49                3  \n",
       "3       2                           2          33                3  \n",
       "4      11                           2          55                3  "
      ]
     },
     "execution_count": 2,
     "metadata": {},
     "output_type": "execute_result"
    }
   ],
   "source": [
    "df = pd.read_csv('dataset_48_tae (1).csv')\n",
    "print('No. of rows and columns in the dataset : ', df.shape)\n",
    "\n",
    "df.head()"
   ]
  },
  {
   "cell_type": "markdown",
   "id": "fae1e033",
   "metadata": {},
   "source": [
    "## Renaming the columns"
   ]
  },
  {
   "cell_type": "code",
   "execution_count": 3,
   "id": "9853b984",
   "metadata": {},
   "outputs": [
    {
     "data": {
      "text/html": [
       "<div>\n",
       "<style scoped>\n",
       "    .dataframe tbody tr th:only-of-type {\n",
       "        vertical-align: middle;\n",
       "    }\n",
       "\n",
       "    .dataframe tbody tr th {\n",
       "        vertical-align: top;\n",
       "    }\n",
       "\n",
       "    .dataframe thead th {\n",
       "        text-align: right;\n",
       "    }\n",
       "</style>\n",
       "<table border=\"1\" class=\"dataframe\">\n",
       "  <thead>\n",
       "    <tr style=\"text-align: right;\">\n",
       "      <th></th>\n",
       "      <th>Native_English_speaker</th>\n",
       "      <th>Instructor</th>\n",
       "      <th>Course</th>\n",
       "      <th>Summer_or_regular</th>\n",
       "      <th>Class_size</th>\n",
       "      <th>Performance</th>\n",
       "    </tr>\n",
       "  </thead>\n",
       "  <tbody>\n",
       "    <tr>\n",
       "      <th>0</th>\n",
       "      <td>1</td>\n",
       "      <td>23</td>\n",
       "      <td>3</td>\n",
       "      <td>1</td>\n",
       "      <td>19</td>\n",
       "      <td>3</td>\n",
       "    </tr>\n",
       "    <tr>\n",
       "      <th>1</th>\n",
       "      <td>2</td>\n",
       "      <td>15</td>\n",
       "      <td>3</td>\n",
       "      <td>1</td>\n",
       "      <td>17</td>\n",
       "      <td>3</td>\n",
       "    </tr>\n",
       "    <tr>\n",
       "      <th>2</th>\n",
       "      <td>1</td>\n",
       "      <td>23</td>\n",
       "      <td>3</td>\n",
       "      <td>2</td>\n",
       "      <td>49</td>\n",
       "      <td>3</td>\n",
       "    </tr>\n",
       "    <tr>\n",
       "      <th>3</th>\n",
       "      <td>1</td>\n",
       "      <td>5</td>\n",
       "      <td>2</td>\n",
       "      <td>2</td>\n",
       "      <td>33</td>\n",
       "      <td>3</td>\n",
       "    </tr>\n",
       "    <tr>\n",
       "      <th>4</th>\n",
       "      <td>2</td>\n",
       "      <td>7</td>\n",
       "      <td>11</td>\n",
       "      <td>2</td>\n",
       "      <td>55</td>\n",
       "      <td>3</td>\n",
       "    </tr>\n",
       "  </tbody>\n",
       "</table>\n",
       "</div>"
      ],
      "text/plain": [
       "   Native_English_speaker  Instructor  Course  Summer_or_regular  Class_size  \\\n",
       "0                       1          23       3                  1          19   \n",
       "1                       2          15       3                  1          17   \n",
       "2                       1          23       3                  2          49   \n",
       "3                       1           5       2                  2          33   \n",
       "4                       2           7      11                  2          55   \n",
       "\n",
       "   Performance  \n",
       "0            3  \n",
       "1            3  \n",
       "2            3  \n",
       "3            3  \n",
       "4            3  "
      ]
     },
     "execution_count": 3,
     "metadata": {},
     "output_type": "execute_result"
    }
   ],
   "source": [
    "df.rename(columns = {'Whether_of_not_the_TA_is_a_native_English_speaker' : 'Native_English_speaker', 'Course_instructor' : 'Instructor', 'Course' : 'Course', 'Summer_or_regular_semester' : 'Summer_or_regular', 'Class_size' : 'Class_size', 'Class_attribute' : 'Performance'}, inplace = True)\n",
    "\n",
    "df.head()"
   ]
  },
  {
   "cell_type": "markdown",
   "id": "3113ebb1",
   "metadata": {},
   "source": [
    "# EDA"
   ]
  },
  {
   "cell_type": "code",
   "execution_count": 4,
   "id": "ae91de01",
   "metadata": {
    "scrolled": true
   },
   "outputs": [
    {
     "name": "stdout",
     "output_type": "stream",
     "text": [
      "<class 'pandas.core.frame.DataFrame'>\n",
      "RangeIndex: 151 entries, 0 to 150\n",
      "Data columns (total 6 columns):\n",
      " #   Column                  Non-Null Count  Dtype\n",
      "---  ------                  --------------  -----\n",
      " 0   Native_English_speaker  151 non-null    int64\n",
      " 1   Instructor              151 non-null    int64\n",
      " 2   Course                  151 non-null    int64\n",
      " 3   Summer_or_regular       151 non-null    int64\n",
      " 4   Class_size              151 non-null    int64\n",
      " 5   Performance             151 non-null    int64\n",
      "dtypes: int64(6)\n",
      "memory usage: 7.2 KB\n"
     ]
    }
   ],
   "source": [
    "df.info()"
   ]
  },
  {
   "cell_type": "code",
   "execution_count": 5,
   "id": "e57e34cd",
   "metadata": {},
   "outputs": [
    {
     "data": {
      "text/html": [
       "<div>\n",
       "<style scoped>\n",
       "    .dataframe tbody tr th:only-of-type {\n",
       "        vertical-align: middle;\n",
       "    }\n",
       "\n",
       "    .dataframe tbody tr th {\n",
       "        vertical-align: top;\n",
       "    }\n",
       "\n",
       "    .dataframe thead th {\n",
       "        text-align: right;\n",
       "    }\n",
       "</style>\n",
       "<table border=\"1\" class=\"dataframe\">\n",
       "  <thead>\n",
       "    <tr style=\"text-align: right;\">\n",
       "      <th></th>\n",
       "      <th>Native_English_speaker</th>\n",
       "      <th>Instructor</th>\n",
       "      <th>Course</th>\n",
       "      <th>Summer_or_regular</th>\n",
       "      <th>Class_size</th>\n",
       "      <th>Performance</th>\n",
       "    </tr>\n",
       "  </thead>\n",
       "  <tbody>\n",
       "    <tr>\n",
       "      <th>count</th>\n",
       "      <td>151.000000</td>\n",
       "      <td>151.000000</td>\n",
       "      <td>151.000000</td>\n",
       "      <td>151.000000</td>\n",
       "      <td>151.000000</td>\n",
       "      <td>151.000000</td>\n",
       "    </tr>\n",
       "    <tr>\n",
       "      <th>mean</th>\n",
       "      <td>1.807947</td>\n",
       "      <td>13.642384</td>\n",
       "      <td>8.105960</td>\n",
       "      <td>1.847682</td>\n",
       "      <td>27.867550</td>\n",
       "      <td>2.019868</td>\n",
       "    </tr>\n",
       "    <tr>\n",
       "      <th>std</th>\n",
       "      <td>0.395225</td>\n",
       "      <td>6.825779</td>\n",
       "      <td>7.023914</td>\n",
       "      <td>0.360525</td>\n",
       "      <td>12.893758</td>\n",
       "      <td>0.820327</td>\n",
       "    </tr>\n",
       "    <tr>\n",
       "      <th>min</th>\n",
       "      <td>1.000000</td>\n",
       "      <td>1.000000</td>\n",
       "      <td>1.000000</td>\n",
       "      <td>1.000000</td>\n",
       "      <td>3.000000</td>\n",
       "      <td>1.000000</td>\n",
       "    </tr>\n",
       "    <tr>\n",
       "      <th>25%</th>\n",
       "      <td>2.000000</td>\n",
       "      <td>8.000000</td>\n",
       "      <td>3.000000</td>\n",
       "      <td>2.000000</td>\n",
       "      <td>19.000000</td>\n",
       "      <td>1.000000</td>\n",
       "    </tr>\n",
       "    <tr>\n",
       "      <th>50%</th>\n",
       "      <td>2.000000</td>\n",
       "      <td>13.000000</td>\n",
       "      <td>4.000000</td>\n",
       "      <td>2.000000</td>\n",
       "      <td>27.000000</td>\n",
       "      <td>2.000000</td>\n",
       "    </tr>\n",
       "    <tr>\n",
       "      <th>75%</th>\n",
       "      <td>2.000000</td>\n",
       "      <td>20.000000</td>\n",
       "      <td>15.000000</td>\n",
       "      <td>2.000000</td>\n",
       "      <td>37.000000</td>\n",
       "      <td>3.000000</td>\n",
       "    </tr>\n",
       "    <tr>\n",
       "      <th>max</th>\n",
       "      <td>2.000000</td>\n",
       "      <td>25.000000</td>\n",
       "      <td>26.000000</td>\n",
       "      <td>2.000000</td>\n",
       "      <td>66.000000</td>\n",
       "      <td>3.000000</td>\n",
       "    </tr>\n",
       "  </tbody>\n",
       "</table>\n",
       "</div>"
      ],
      "text/plain": [
       "       Native_English_speaker  Instructor      Course  Summer_or_regular  \\\n",
       "count              151.000000  151.000000  151.000000         151.000000   \n",
       "mean                 1.807947   13.642384    8.105960           1.847682   \n",
       "std                  0.395225    6.825779    7.023914           0.360525   \n",
       "min                  1.000000    1.000000    1.000000           1.000000   \n",
       "25%                  2.000000    8.000000    3.000000           2.000000   \n",
       "50%                  2.000000   13.000000    4.000000           2.000000   \n",
       "75%                  2.000000   20.000000   15.000000           2.000000   \n",
       "max                  2.000000   25.000000   26.000000           2.000000   \n",
       "\n",
       "       Class_size  Performance  \n",
       "count  151.000000   151.000000  \n",
       "mean    27.867550     2.019868  \n",
       "std     12.893758     0.820327  \n",
       "min      3.000000     1.000000  \n",
       "25%     19.000000     1.000000  \n",
       "50%     27.000000     2.000000  \n",
       "75%     37.000000     3.000000  \n",
       "max     66.000000     3.000000  "
      ]
     },
     "execution_count": 5,
     "metadata": {},
     "output_type": "execute_result"
    }
   ],
   "source": [
    "df.describe()"
   ]
  },
  {
   "cell_type": "code",
   "execution_count": 6,
   "id": "1bcc7581",
   "metadata": {},
   "outputs": [
    {
     "data": {
      "text/plain": [
       "Native_English_speaker    0\n",
       "Instructor                0\n",
       "Course                    0\n",
       "Summer_or_regular         0\n",
       "Class_size                0\n",
       "Performance               0\n",
       "dtype: int64"
      ]
     },
     "execution_count": 6,
     "metadata": {},
     "output_type": "execute_result"
    }
   ],
   "source": [
    "df.isnull().sum()"
   ]
  },
  {
   "cell_type": "markdown",
   "id": "38d8b7a8",
   "metadata": {},
   "source": [
    "## Outliers"
   ]
  },
  {
   "cell_type": "code",
   "execution_count": 7,
   "id": "88721ffd",
   "metadata": {
    "scrolled": false
   },
   "outputs": [
    {
     "data": {
      "text/plain": [
       "<AxesSubplot:>"
      ]
     },
     "execution_count": 7,
     "metadata": {},
     "output_type": "execute_result"
    },
    {
     "data": {
      "image/png": "[encoded data removed]",
      "text/plain": [
       "<Figure size 720x720 with 1 Axes>"
      ]
     },
     "metadata": {
      "needs_background": "light"
     },
     "output_type": "display_data"
    }
   ],
   "source": [
    "df.boxplot(figsize = (10,10), fontsize = 15, vert = False)"
   ]
  },
  {
   "cell_type": "code",
   "execution_count": 8,
   "id": "6bb72bea",
   "metadata": {},
   "outputs": [
    {
     "name": "stdout",
     "output_type": "stream",
     "text": [
      "Unique Values\n",
      "\n",
      "Native English speaker or not :\n",
      " [1, 2]\n",
      "Course Instructor :\n",
      " [23, 15, 5, 7, 9, 10, 22, 13, 18, 6, 25, 2, 1, 8, 14, 21, 11, 16, 4, 17, 20, 12, 24, 3, 19]\n",
      "Course :\n",
      " [3, 2, 11, 5, 22, 1, 21, 17, 25, 7, 9, 15, 13, 8, 16, 19, 14, 6, 12, 18, 23, 26, 24, 20, 4, 10]\n",
      "Summer_or_regular :\n",
      " [1, 2]\n",
      "No. of Students in the class :\n",
      " [19, 17, 49, 33, 55, 20, 27, 58, 9, 30, 29, 39, 42, 43, 10, 46, 23, 31, 22, 37, 13, 24, 38, 28, 51, 36, 21, 48, 25, 11, 45, 18, 14, 35, 15, 32, 34, 66, 12, 3, 7, 54, 16, 44, 5, 26]\n",
      "Teaching Performance :\n",
      " [3, 2, 1]\n"
     ]
    }
   ],
   "source": [
    "print('Unique Values\\n')\n",
    "print('Native English speaker or not :\\n', list(df.Native_English_speaker.unique()))\n",
    "print('Course Instructor :\\n', list(df.Instructor.unique()))\n",
    "print('Course :\\n', list(df.Course.unique()))\n",
    "print('Summer_or_regular :\\n', list(df.Summer_or_regular.unique()))\n",
    "print('No. of Students in the class :\\n', list(df.Class_size.unique()))\n",
    "print('Teaching Performance :\\n', list(df.Performance.unique()))"
   ]
  },
  {
   "cell_type": "markdown",
   "id": "60c1f01e",
   "metadata": {},
   "source": [
    "#### Language\n",
    "- 1 = English speaker\n",
    "- 2 = Not English speaker\n",
    "\n",
    "#### Course type\n",
    "- 1 = Summer\n",
    "- 2 = Regular\n",
    "\n",
    "#### Performance\n",
    "- 1 = Low\n",
    "- 2 = Medium\n",
    "- 3 = Good"
   ]
  },
  {
   "cell_type": "code",
   "execution_count": 9,
   "id": "dd723785",
   "metadata": {},
   "outputs": [
    {
     "name": "stdout",
     "output_type": "stream",
     "text": [
      "Unique Value counts\n",
      "\n",
      "Native English speaker or not\n",
      " 1     29\n",
      "2    122\n",
      "Name: Native_English_speaker, dtype: int64\n",
      "Summer_or_regular\n",
      " 1     23\n",
      "2    128\n",
      "Name: Summer_or_regular, dtype: int64\n",
      "Teaching Performance\n",
      " 1    49\n",
      "2    50\n",
      "3    52\n",
      "Name: Performance, dtype: int64\n"
     ]
    }
   ],
   "source": [
    "print('Unique Value counts\\n')\n",
    "print('Native English speaker or not\\n',df.Native_English_speaker.value_counts().sort_values())\n",
    "print('Summer_or_regular\\n',df.Summer_or_regular.value_counts().sort_values())\n",
    "print('Teaching Performance\\n',df.Performance.value_counts().sort_values())"
   ]
  },
  {
   "cell_type": "code",
   "execution_count": 10,
   "id": "83ee5b8f",
   "metadata": {},
   "outputs": [
    {
     "data": {
      "image/png": "[encoded data removed]",
      "text/plain": [
       "<IPython.core.display.Image object>"
      ]
     },
     "execution_count": 10,
     "metadata": {},
     "output_type": "execute_result"
    }
   ],
   "source": [
    "from IPython.display import Image\n",
    "Image(filename = 'C:/Users/God/Desktop/Sindhu/Projects/PRCP-1026-TeachingAssistance/TA Insights.png')"
   ]
  },
  {
   "cell_type": "code",
   "execution_count": 11,
   "id": "5e252e6e",
   "metadata": {},
   "outputs": [],
   "source": [
    "def partition(x):\n",
    "    if x == 2:\n",
    "        return 0\n",
    "    return 1\n",
    "\n",
    "df['Native_English_speaker'] = df['Native_English_speaker'].map(partition)"
   ]
  },
  {
   "cell_type": "code",
   "execution_count": 12,
   "id": "2a9166f9",
   "metadata": {},
   "outputs": [],
   "source": [
    "def partition(y):\n",
    "    if y == 2:\n",
    "        return 0\n",
    "    return 1\n",
    "\n",
    "df['Summer_or_regular'] = df['Summer_or_regular'].map(partition)"
   ]
  },
  {
   "cell_type": "code",
   "execution_count": 13,
   "id": "dba98b73",
   "metadata": {},
   "outputs": [
    {
     "data": {
      "text/html": [
       "<div>\n",
       "<style scoped>\n",
       "    .dataframe tbody tr th:only-of-type {\n",
       "        vertical-align: middle;\n",
       "    }\n",
       "\n",
       "    .dataframe tbody tr th {\n",
       "        vertical-align: top;\n",
       "    }\n",
       "\n",
       "    .dataframe thead th {\n",
       "        text-align: right;\n",
       "    }\n",
       "</style>\n",
       "<table border=\"1\" class=\"dataframe\">\n",
       "  <thead>\n",
       "    <tr style=\"text-align: right;\">\n",
       "      <th></th>\n",
       "      <th>Native_English_speaker</th>\n",
       "      <th>Instructor</th>\n",
       "      <th>Course</th>\n",
       "      <th>Summer_or_regular</th>\n",
       "      <th>Class_size</th>\n",
       "      <th>Performance</th>\n",
       "    </tr>\n",
       "  </thead>\n",
       "  <tbody>\n",
       "    <tr>\n",
       "      <th>0</th>\n",
       "      <td>1</td>\n",
       "      <td>23</td>\n",
       "      <td>3</td>\n",
       "      <td>1</td>\n",
       "      <td>19</td>\n",
       "      <td>3</td>\n",
       "    </tr>\n",
       "    <tr>\n",
       "      <th>1</th>\n",
       "      <td>0</td>\n",
       "      <td>15</td>\n",
       "      <td>3</td>\n",
       "      <td>1</td>\n",
       "      <td>17</td>\n",
       "      <td>3</td>\n",
       "    </tr>\n",
       "    <tr>\n",
       "      <th>2</th>\n",
       "      <td>1</td>\n",
       "      <td>23</td>\n",
       "      <td>3</td>\n",
       "      <td>0</td>\n",
       "      <td>49</td>\n",
       "      <td>3</td>\n",
       "    </tr>\n",
       "    <tr>\n",
       "      <th>3</th>\n",
       "      <td>1</td>\n",
       "      <td>5</td>\n",
       "      <td>2</td>\n",
       "      <td>0</td>\n",
       "      <td>33</td>\n",
       "      <td>3</td>\n",
       "    </tr>\n",
       "    <tr>\n",
       "      <th>4</th>\n",
       "      <td>0</td>\n",
       "      <td>7</td>\n",
       "      <td>11</td>\n",
       "      <td>0</td>\n",
       "      <td>55</td>\n",
       "      <td>3</td>\n",
       "    </tr>\n",
       "  </tbody>\n",
       "</table>\n",
       "</div>"
      ],
      "text/plain": [
       "   Native_English_speaker  Instructor  Course  Summer_or_regular  Class_size  \\\n",
       "0                       1          23       3                  1          19   \n",
       "1                       0          15       3                  1          17   \n",
       "2                       1          23       3                  0          49   \n",
       "3                       1           5       2                  0          33   \n",
       "4                       0           7      11                  0          55   \n",
       "\n",
       "   Performance  \n",
       "0            3  \n",
       "1            3  \n",
       "2            3  \n",
       "3            3  \n",
       "4            3  "
      ]
     },
     "execution_count": 13,
     "metadata": {},
     "output_type": "execute_result"
    }
   ],
   "source": [
    "df.head()"
   ]
  },
  {
   "cell_type": "code",
   "execution_count": 14,
   "id": "ffaada2d",
   "metadata": {},
   "outputs": [
    {
     "name": "stdout",
     "output_type": "stream",
     "text": [
      "Unique Value counts\n",
      "\n",
      "Native English speaker or not\n",
      " 1     29\n",
      "0    122\n",
      "Name: Native_English_speaker, dtype: int64\n",
      "Summer_or_regular\n",
      " 1     23\n",
      "0    128\n",
      "Name: Summer_or_regular, dtype: int64\n",
      "Teaching Performance\n",
      " 1    49\n",
      "2    50\n",
      "3    52\n",
      "Name: Performance, dtype: int64\n"
     ]
    }
   ],
   "source": [
    "print('Unique Value counts\\n')\n",
    "print('Native English speaker or not\\n',df.Native_English_speaker.value_counts().sort_values())\n",
    "print('Summer_or_regular\\n',df.Summer_or_regular.value_counts().sort_values())\n",
    "print('Teaching Performance\\n',df.Performance.value_counts().sort_values())"
   ]
  },
  {
   "cell_type": "markdown",
   "id": "364fdb3d",
   "metadata": {},
   "source": [
    "# Correlation"
   ]
  },
  {
   "cell_type": "code",
   "execution_count": 15,
   "id": "4e7670d5",
   "metadata": {
    "scrolled": true
   },
   "outputs": [
    {
     "data": {
      "text/plain": [
       "Native_English_speaker    0.255466\n",
       "Instructor                0.075095\n",
       "Course                    0.143103\n",
       "Summer_or_regular         0.282742\n",
       "Class_size               -0.035676\n",
       "Performance               1.000000\n",
       "Name: Performance, dtype: float64"
      ]
     },
     "execution_count": 15,
     "metadata": {},
     "output_type": "execute_result"
    }
   ],
   "source": [
    "df.corr().Performance"
   ]
  },
  {
   "cell_type": "code",
   "execution_count": 16,
   "id": "be1146d3",
   "metadata": {},
   "outputs": [
    {
     "data": {
      "text/plain": [
       "<AxesSubplot:>"
      ]
     },
     "execution_count": 16,
     "metadata": {},
     "output_type": "execute_result"
    },
    {
     "data": {
      "image/png": "[encoded data removed]",
      "text/plain": [
       "<Figure size 432x288 with 2 Axes>"
      ]
     },
     "metadata": {
      "needs_background": "light"
     },
     "output_type": "display_data"
    }
   ],
   "source": [
    "sb.heatmap(df.corr(), annot = True)"
   ]
  },
  {
   "cell_type": "code",
   "execution_count": 17,
   "id": "01d59148",
   "metadata": {},
   "outputs": [
    {
     "data": {
      "image/png": "[encoded data removed]",
      "text/plain": [
       "<Figure size 1080x1080 with 3 Axes>"
      ]
     },
     "metadata": {
      "needs_background": "light"
     },
     "output_type": "display_data"
    }
   ],
   "source": [
    "rcParams['figure.figsize'] = (15,15)\n",
    "fig, (ax1,ax2,ax3) =plt.subplots(3,1, constrained_layout=True)\n",
    "\n",
    "ax1.plot(df.Native_English_speaker.sort_values(ascending = True), df.Performance, color = 'r')\n",
    "ax1.set_title('Correlation between Language & Performance', color = 'b', fontsize = 20)\n",
    "\n",
    "ax2.plot(df.Course.sort_values(ascending = True), df.Performance, color = 'blue')\n",
    "ax2.set_title('Correlation between Course & Performance', color = 'b', fontsize = 20)\n",
    "\n",
    "ax3.plot(df.Summer_or_regular.sort_values(ascending = True), df.Performance, color = 'green')\n",
    "ax3.set_title('Correlation between Summer_or_regular & Performance', color = 'b', fontsize = 20)\n",
    "\n",
    "plt.show()"
   ]
  },
  {
   "cell_type": "markdown",
   "id": "e509e0db",
   "metadata": {},
   "source": [
    "## Split the predictors and the target"
   ]
  },
  {
   "cell_type": "code",
   "execution_count": 18,
   "id": "311e0deb",
   "metadata": {},
   "outputs": [],
   "source": [
    "x = df.iloc[:,0:5]\n",
    "y = df.Performance"
   ]
  },
  {
   "cell_type": "code",
   "execution_count": 19,
   "id": "5c5a44fc",
   "metadata": {},
   "outputs": [
    {
     "data": {
      "text/html": [
       "<div>\n",
       "<style scoped>\n",
       "    .dataframe tbody tr th:only-of-type {\n",
       "        vertical-align: middle;\n",
       "    }\n",
       "\n",
       "    .dataframe tbody tr th {\n",
       "        vertical-align: top;\n",
       "    }\n",
       "\n",
       "    .dataframe thead th {\n",
       "        text-align: right;\n",
       "    }\n",
       "</style>\n",
       "<table border=\"1\" class=\"dataframe\">\n",
       "  <thead>\n",
       "    <tr style=\"text-align: right;\">\n",
       "      <th></th>\n",
       "      <th>Native_English_speaker</th>\n",
       "      <th>Instructor</th>\n",
       "      <th>Course</th>\n",
       "      <th>Summer_or_regular</th>\n",
       "      <th>Class_size</th>\n",
       "    </tr>\n",
       "  </thead>\n",
       "  <tbody>\n",
       "    <tr>\n",
       "      <th>0</th>\n",
       "      <td>1</td>\n",
       "      <td>23</td>\n",
       "      <td>3</td>\n",
       "      <td>1</td>\n",
       "      <td>19</td>\n",
       "    </tr>\n",
       "    <tr>\n",
       "      <th>1</th>\n",
       "      <td>0</td>\n",
       "      <td>15</td>\n",
       "      <td>3</td>\n",
       "      <td>1</td>\n",
       "      <td>17</td>\n",
       "    </tr>\n",
       "    <tr>\n",
       "      <th>2</th>\n",
       "      <td>1</td>\n",
       "      <td>23</td>\n",
       "      <td>3</td>\n",
       "      <td>0</td>\n",
       "      <td>49</td>\n",
       "    </tr>\n",
       "    <tr>\n",
       "      <th>3</th>\n",
       "      <td>1</td>\n",
       "      <td>5</td>\n",
       "      <td>2</td>\n",
       "      <td>0</td>\n",
       "      <td>33</td>\n",
       "    </tr>\n",
       "    <tr>\n",
       "      <th>4</th>\n",
       "      <td>0</td>\n",
       "      <td>7</td>\n",
       "      <td>11</td>\n",
       "      <td>0</td>\n",
       "      <td>55</td>\n",
       "    </tr>\n",
       "  </tbody>\n",
       "</table>\n",
       "</div>"
      ],
      "text/plain": [
       "   Native_English_speaker  Instructor  Course  Summer_or_regular  Class_size\n",
       "0                       1          23       3                  1          19\n",
       "1                       0          15       3                  1          17\n",
       "2                       1          23       3                  0          49\n",
       "3                       1           5       2                  0          33\n",
       "4                       0           7      11                  0          55"
      ]
     },
     "execution_count": 19,
     "metadata": {},
     "output_type": "execute_result"
    }
   ],
   "source": [
    "x.head()"
   ]
  },
  {
   "cell_type": "code",
   "execution_count": 20,
   "id": "ff7e0851",
   "metadata": {},
   "outputs": [
    {
     "data": {
      "text/plain": [
       "0    3\n",
       "1    3\n",
       "2    3\n",
       "3    3\n",
       "4    3\n",
       "Name: Performance, dtype: int64"
      ]
     },
     "execution_count": 20,
     "metadata": {},
     "output_type": "execute_result"
    }
   ],
   "source": [
    "y.head()"
   ]
  },
  {
   "cell_type": "markdown",
   "id": "102b7355",
   "metadata": {},
   "source": [
    "# Train Test Split"
   ]
  },
  {
   "cell_type": "code",
   "execution_count": 21,
   "id": "8ebb5c6a",
   "metadata": {},
   "outputs": [],
   "source": [
    "x_train, x_test, y_train, y_test = train_test_split(x, y, test_size = 0.2, random_state = 2)"
   ]
  },
  {
   "cell_type": "code",
   "execution_count": 22,
   "id": "36d45bab",
   "metadata": {},
   "outputs": [
    {
     "name": "stdout",
     "output_type": "stream",
     "text": [
      "X Train : (120, 5)\n",
      "X Test : (31, 5)\n",
      "Y Train : (120,)\n",
      "Y Test : (31,)\n"
     ]
    }
   ],
   "source": [
    "print('X Train :', x_train.shape)\n",
    "print('X Test :', x_test.shape)\n",
    "print('Y Train :', y_train.shape)\n",
    "print('Y Test :', y_test.shape)"
   ]
  },
  {
   "cell_type": "markdown",
   "id": "539f22c1",
   "metadata": {},
   "source": [
    "# Model Selection"
   ]
  },
  {
   "cell_type": "markdown",
   "id": "c30a79fd",
   "metadata": {},
   "source": [
    "## 1. Logistic Regression"
   ]
  },
  {
   "cell_type": "code",
   "execution_count": 23,
   "id": "3506d08e",
   "metadata": {},
   "outputs": [
    {
     "data": {
      "text/plain": [
       "LogisticRegression(max_iter=500)"
      ]
     },
     "execution_count": 23,
     "metadata": {},
     "output_type": "execute_result"
    }
   ],
   "source": [
    "from sklearn.linear_model import LogisticRegression\n",
    "\n",
    "model=LogisticRegression(max_iter=500)\n",
    "model.fit(x_train, y_train)"
   ]
  },
  {
   "cell_type": "code",
   "execution_count": 24,
   "id": "cde9eff6",
   "metadata": {},
   "outputs": [
    {
     "name": "stdout",
     "output_type": "stream",
     "text": [
      "Test Accuracy : 0.45161290322580644\n",
      "Train Accuracy : 0.5166666666666667\n"
     ]
    }
   ],
   "source": [
    "y_predict=model.predict(x_test)\n",
    "lr = accuracy_score(y_test,y_predict)\n",
    "\n",
    "y_predict1=model.predict(x_train)\n",
    "lr1 = accuracy_score(y_train,y_predict1)\n",
    "\n",
    "print('Test Accuracy :', lr)\n",
    "print('Train Accuracy :', lr1)"
   ]
  },
  {
   "cell_type": "code",
   "execution_count": 25,
   "id": "2b143169",
   "metadata": {},
   "outputs": [
    {
     "data": {
      "text/html": [
       "<div>\n",
       "<style scoped>\n",
       "    .dataframe tbody tr th:only-of-type {\n",
       "        vertical-align: middle;\n",
       "    }\n",
       "\n",
       "    .dataframe tbody tr th {\n",
       "        vertical-align: top;\n",
       "    }\n",
       "\n",
       "    .dataframe thead th {\n",
       "        text-align: right;\n",
       "    }\n",
       "</style>\n",
       "<table border=\"1\" class=\"dataframe\">\n",
       "  <thead>\n",
       "    <tr style=\"text-align: right;\">\n",
       "      <th>col_0</th>\n",
       "      <th>1</th>\n",
       "      <th>2</th>\n",
       "      <th>3</th>\n",
       "    </tr>\n",
       "    <tr>\n",
       "      <th>Performance</th>\n",
       "      <th></th>\n",
       "      <th></th>\n",
       "      <th></th>\n",
       "    </tr>\n",
       "  </thead>\n",
       "  <tbody>\n",
       "    <tr>\n",
       "      <th>1</th>\n",
       "      <td>5</td>\n",
       "      <td>0</td>\n",
       "      <td>0</td>\n",
       "    </tr>\n",
       "    <tr>\n",
       "      <th>2</th>\n",
       "      <td>4</td>\n",
       "      <td>5</td>\n",
       "      <td>3</td>\n",
       "    </tr>\n",
       "    <tr>\n",
       "      <th>3</th>\n",
       "      <td>9</td>\n",
       "      <td>1</td>\n",
       "      <td>4</td>\n",
       "    </tr>\n",
       "  </tbody>\n",
       "</table>\n",
       "</div>"
      ],
      "text/plain": [
       "col_0        1  2  3\n",
       "Performance         \n",
       "1            5  0  0\n",
       "2            4  5  3\n",
       "3            9  1  4"
      ]
     },
     "execution_count": 25,
     "metadata": {},
     "output_type": "execute_result"
    }
   ],
   "source": [
    "pd.crosstab(y_test, y_predict)"
   ]
  },
  {
   "cell_type": "code",
   "execution_count": 27,
   "id": "25b6e841",
   "metadata": {},
   "outputs": [
    {
     "name": "stdout",
     "output_type": "stream",
     "text": [
      "              precision    recall  f1-score   support\n",
      "\n",
      "           1       0.28      1.00      0.43         5\n",
      "           2       0.83      0.42      0.56        12\n",
      "           3       0.57      0.29      0.38        14\n",
      "\n",
      "    accuracy                           0.45        31\n",
      "   macro avg       0.56      0.57      0.46        31\n",
      "weighted avg       0.63      0.45      0.46        31\n",
      "\n",
      "              precision    recall  f1-score   support\n",
      "\n",
      "           1       0.55      0.77      0.64        44\n",
      "           2       0.45      0.39      0.42        38\n",
      "           3       0.52      0.34      0.41        38\n",
      "\n",
      "    accuracy                           0.52       120\n",
      "   macro avg       0.51      0.50      0.49       120\n",
      "weighted avg       0.51      0.52      0.50       120\n",
      "\n"
     ]
    }
   ],
   "source": [
    "print(classification_report(y_test,y_predict))\n",
    "print(classification_report(y_train,y_predict1))"
   ]
  },
  {
   "cell_type": "markdown",
   "id": "2bdf198d",
   "metadata": {},
   "source": [
    "## 2. Naive Bayes"
   ]
  },
  {
   "cell_type": "code",
   "execution_count": 29,
   "id": "0f6e3ba7",
   "metadata": {},
   "outputs": [],
   "source": [
    "x_train, x_test, y_train, y_test = train_test_split(x, y, test_size = 0.2, random_state = 1)"
   ]
  },
  {
   "cell_type": "code",
   "execution_count": 30,
   "id": "e39d7f7c",
   "metadata": {},
   "outputs": [
    {
     "data": {
      "text/plain": [
       "GaussianNB()"
      ]
     },
     "execution_count": 30,
     "metadata": {},
     "output_type": "execute_result"
    }
   ],
   "source": [
    "from sklearn.naive_bayes import GaussianNB\n",
    "model = GaussianNB()   \n",
    "model.fit(x_train, y_train)"
   ]
  },
  {
   "cell_type": "code",
   "execution_count": 31,
   "id": "c40cfe6d",
   "metadata": {},
   "outputs": [
    {
     "name": "stdout",
     "output_type": "stream",
     "text": [
      "Test Accuracy : 0.5806451612903226\n",
      "Train Accuracy : 0.5583333333333333\n"
     ]
    }
   ],
   "source": [
    "y_predict=model.predict(x_test)\n",
    "nb = accuracy_score(y_test,y_predict)\n",
    "\n",
    "y_predict1=model.predict(x_train)\n",
    "nb1 = accuracy_score(y_train,y_predict1)\n",
    "\n",
    "print('Test Accuracy :', nb)\n",
    "print('Train Accuracy :', nb1)"
   ]
  },
  {
   "cell_type": "code",
   "execution_count": 32,
   "id": "d4f26396",
   "metadata": {},
   "outputs": [
    {
     "data": {
      "text/html": [
       "<div>\n",
       "<style scoped>\n",
       "    .dataframe tbody tr th:only-of-type {\n",
       "        vertical-align: middle;\n",
       "    }\n",
       "\n",
       "    .dataframe tbody tr th {\n",
       "        vertical-align: top;\n",
       "    }\n",
       "\n",
       "    .dataframe thead th {\n",
       "        text-align: right;\n",
       "    }\n",
       "</style>\n",
       "<table border=\"1\" class=\"dataframe\">\n",
       "  <thead>\n",
       "    <tr style=\"text-align: right;\">\n",
       "      <th>col_0</th>\n",
       "      <th>1</th>\n",
       "      <th>2</th>\n",
       "      <th>3</th>\n",
       "    </tr>\n",
       "    <tr>\n",
       "      <th>Performance</th>\n",
       "      <th></th>\n",
       "      <th></th>\n",
       "      <th></th>\n",
       "    </tr>\n",
       "  </thead>\n",
       "  <tbody>\n",
       "    <tr>\n",
       "      <th>1</th>\n",
       "      <td>6</td>\n",
       "      <td>3</td>\n",
       "      <td>1</td>\n",
       "    </tr>\n",
       "    <tr>\n",
       "      <th>2</th>\n",
       "      <td>3</td>\n",
       "      <td>4</td>\n",
       "      <td>2</td>\n",
       "    </tr>\n",
       "    <tr>\n",
       "      <th>3</th>\n",
       "      <td>1</td>\n",
       "      <td>3</td>\n",
       "      <td>8</td>\n",
       "    </tr>\n",
       "  </tbody>\n",
       "</table>\n",
       "</div>"
      ],
      "text/plain": [
       "col_0        1  2  3\n",
       "Performance         \n",
       "1            6  3  1\n",
       "2            3  4  2\n",
       "3            1  3  8"
      ]
     },
     "execution_count": 32,
     "metadata": {},
     "output_type": "execute_result"
    }
   ],
   "source": [
    "pd.crosstab(y_test, y_predict)"
   ]
  },
  {
   "cell_type": "code",
   "execution_count": 33,
   "id": "83262446",
   "metadata": {},
   "outputs": [
    {
     "name": "stdout",
     "output_type": "stream",
     "text": [
      "              precision    recall  f1-score   support\n",
      "\n",
      "           1       0.60      0.60      0.60        10\n",
      "           2       0.40      0.44      0.42         9\n",
      "           3       0.73      0.67      0.70        12\n",
      "\n",
      "    accuracy                           0.58        31\n",
      "   macro avg       0.58      0.57      0.57        31\n",
      "weighted avg       0.59      0.58      0.59        31\n",
      "\n",
      "              precision    recall  f1-score   support\n",
      "\n",
      "           1       0.52      0.82      0.64        39\n",
      "           2       0.55      0.39      0.46        41\n",
      "           3       0.63      0.47      0.54        40\n",
      "\n",
      "    accuracy                           0.56       120\n",
      "   macro avg       0.57      0.56      0.55       120\n",
      "weighted avg       0.57      0.56      0.55       120\n",
      "\n"
     ]
    }
   ],
   "source": [
    "print(classification_report(y_test,y_predict))\n",
    "print(classification_report(y_train,y_predict1))"
   ]
  },
  {
   "cell_type": "markdown",
   "id": "0654faaf",
   "metadata": {},
   "source": [
    "## 3. KNN"
   ]
  },
  {
   "cell_type": "code",
   "execution_count": 52,
   "id": "ebb228e8",
   "metadata": {},
   "outputs": [],
   "source": [
    "x_train, x_test, y_train, y_test = train_test_split(x, y, test_size = 0.2, random_state = 50)"
   ]
  },
  {
   "cell_type": "code",
   "execution_count": 53,
   "id": "9a32d6c2",
   "metadata": {},
   "outputs": [
    {
     "data": {
      "text/plain": [
       "KNeighborsClassifier(n_neighbors=8)"
      ]
     },
     "execution_count": 53,
     "metadata": {},
     "output_type": "execute_result"
    }
   ],
   "source": [
    "from sklearn.neighbors import KNeighborsClassifier\n",
    "model=KNeighborsClassifier(n_neighbors=8)\n",
    "model.fit(x_train, y_train)"
   ]
  },
  {
   "cell_type": "code",
   "execution_count": 54,
   "id": "f522fb2c",
   "metadata": {},
   "outputs": [
    {
     "name": "stdout",
     "output_type": "stream",
     "text": [
      "Test Accuracy : 0.4838709677419355\n",
      "Train Accuracy : 0.5166666666666667\n"
     ]
    }
   ],
   "source": [
    "y_predict=model.predict(x_test)\n",
    "knn = accuracy_score(y_test,y_predict)\n",
    "\n",
    "y_predict1=model.predict(x_train)\n",
    "knn1 = accuracy_score(y_train,y_predict1)\n",
    "\n",
    "print('Test Accuracy :', knn)\n",
    "print('Train Accuracy :', knn1)"
   ]
  },
  {
   "cell_type": "code",
   "execution_count": 55,
   "id": "33f0bce0",
   "metadata": {},
   "outputs": [
    {
     "data": {
      "text/html": [
       "<div>\n",
       "<style scoped>\n",
       "    .dataframe tbody tr th:only-of-type {\n",
       "        vertical-align: middle;\n",
       "    }\n",
       "\n",
       "    .dataframe tbody tr th {\n",
       "        vertical-align: top;\n",
       "    }\n",
       "\n",
       "    .dataframe thead th {\n",
       "        text-align: right;\n",
       "    }\n",
       "</style>\n",
       "<table border=\"1\" class=\"dataframe\">\n",
       "  <thead>\n",
       "    <tr style=\"text-align: right;\">\n",
       "      <th>col_0</th>\n",
       "      <th>1</th>\n",
       "      <th>2</th>\n",
       "      <th>3</th>\n",
       "    </tr>\n",
       "    <tr>\n",
       "      <th>Performance</th>\n",
       "      <th></th>\n",
       "      <th></th>\n",
       "      <th></th>\n",
       "    </tr>\n",
       "  </thead>\n",
       "  <tbody>\n",
       "    <tr>\n",
       "      <th>1</th>\n",
       "      <td>6</td>\n",
       "      <td>2</td>\n",
       "      <td>3</td>\n",
       "    </tr>\n",
       "    <tr>\n",
       "      <th>2</th>\n",
       "      <td>4</td>\n",
       "      <td>7</td>\n",
       "      <td>0</td>\n",
       "    </tr>\n",
       "    <tr>\n",
       "      <th>3</th>\n",
       "      <td>3</td>\n",
       "      <td>4</td>\n",
       "      <td>2</td>\n",
       "    </tr>\n",
       "  </tbody>\n",
       "</table>\n",
       "</div>"
      ],
      "text/plain": [
       "col_0        1  2  3\n",
       "Performance         \n",
       "1            6  2  3\n",
       "2            4  7  0\n",
       "3            3  4  2"
      ]
     },
     "execution_count": 55,
     "metadata": {},
     "output_type": "execute_result"
    }
   ],
   "source": [
    "pd.crosstab(y_test, y_predict)"
   ]
  },
  {
   "cell_type": "code",
   "execution_count": 56,
   "id": "15d011a5",
   "metadata": {},
   "outputs": [
    {
     "name": "stdout",
     "output_type": "stream",
     "text": [
      "              precision    recall  f1-score   support\n",
      "\n",
      "           1       0.46      0.55      0.50        11\n",
      "           2       0.54      0.64      0.58        11\n",
      "           3       0.40      0.22      0.29         9\n",
      "\n",
      "    accuracy                           0.48        31\n",
      "   macro avg       0.47      0.47      0.46        31\n",
      "weighted avg       0.47      0.48      0.47        31\n",
      "\n",
      "              precision    recall  f1-score   support\n",
      "\n",
      "           1       0.50      0.42      0.46        38\n",
      "           2       0.51      0.54      0.53        39\n",
      "           3       0.53      0.58      0.56        43\n",
      "\n",
      "    accuracy                           0.52       120\n",
      "   macro avg       0.51      0.51      0.51       120\n",
      "weighted avg       0.52      0.52      0.51       120\n",
      "\n"
     ]
    }
   ],
   "source": [
    "print(classification_report(y_test,y_predict))\n",
    "print(classification_report(y_train,y_predict1))"
   ]
  },
  {
   "cell_type": "markdown",
   "id": "7f4f884f",
   "metadata": {},
   "source": [
    "## 4. SVM"
   ]
  },
  {
   "cell_type": "code",
   "execution_count": 57,
   "id": "ee46faad",
   "metadata": {},
   "outputs": [],
   "source": [
    "params = {\n",
    "    'kernel': ['rbf', 'linear'],\n",
    "    'C': [0.1, 1.0, 25.0, 50.0, 100, 150],\n",
    "    'gamma': [0.01, 0.1, 1.0, 10.0, 20.0]\n",
    "}\n",
    "\n",
    "# Checks 2x6x5 = 60 combinations"
   ]
  },
  {
   "cell_type": "code",
   "execution_count": 58,
   "id": "ee786363",
   "metadata": {},
   "outputs": [
    {
     "name": "stdout",
     "output_type": "stream",
     "text": [
      "Fitting 5 folds for each of 60 candidates, totalling 300 fits\n",
      "[CV] END ......................C=0.1, gamma=0.01, kernel=rbf; total time=   0.0s\n",
      "[CV] END ......................C=0.1, gamma=0.01, kernel=rbf; total time=   0.0s\n",
      "[CV] END ......................C=0.1, gamma=0.01, kernel=rbf; total time=   0.0s\n",
      "[CV] END ......................C=0.1, gamma=0.01, kernel=rbf; total time=   0.0s\n",
      "[CV] END ......................C=0.1, gamma=0.01, kernel=rbf; total time=   0.0s\n",
      "[CV] END ...................C=0.1, gamma=0.01, kernel=linear; total time=   0.0s\n",
      "[CV] END ...................C=0.1, gamma=0.01, kernel=linear; total time=   0.0s\n",
      "[CV] END ...................C=0.1, gamma=0.01, kernel=linear; total time=   0.0s\n",
      "[CV] END ...................C=0.1, gamma=0.01, kernel=linear; total time=   0.0s\n",
      "[CV] END ...................C=0.1, gamma=0.01, kernel=linear; total time=   0.0s\n",
      "[CV] END .......................C=0.1, gamma=0.1, kernel=rbf; total time=   0.0s\n",
      "[CV] END .......................C=0.1, gamma=0.1, kernel=rbf; total time=   0.0s\n",
      "[CV] END .......................C=0.1, gamma=0.1, kernel=rbf; total time=   0.0s\n",
      "[CV] END .......................C=0.1, gamma=0.1, kernel=rbf; total time=   0.0s\n",
      "[CV] END .......................C=0.1, gamma=0.1, kernel=rbf; total time=   0.0s\n",
      "[CV] END ....................C=0.1, gamma=0.1, kernel=linear; total time=   0.0s\n",
      "[CV] END ....................C=0.1, gamma=0.1, kernel=linear; total time=   0.0s\n",
      "[CV] END ....................C=0.1, gamma=0.1, kernel=linear; total time=   0.0s\n",
      "[CV] END ....................C=0.1, gamma=0.1, kernel=linear; total time=   0.0s\n",
      "[CV] END ....................C=0.1, gamma=0.1, kernel=linear; total time=   0.0s\n",
      "[CV] END .......................C=0.1, gamma=1.0, kernel=rbf; total time=   0.0s\n",
      "[CV] END .......................C=0.1, gamma=1.0, kernel=rbf; total time=   0.0s\n",
      "[CV] END .......................C=0.1, gamma=1.0, kernel=rbf; total time=   0.0s\n",
      "[CV] END .......................C=0.1, gamma=1.0, kernel=rbf; total time=   0.0s\n",
      "[CV] END .......................C=0.1, gamma=1.0, kernel=rbf; total time=   0.0s\n",
      "[CV] END ....................C=0.1, gamma=1.0, kernel=linear; total time=   0.0s\n",
      "[CV] END ....................C=0.1, gamma=1.0, kernel=linear; total time=   0.0s\n",
      "[CV] END ....................C=0.1, gamma=1.0, kernel=linear; total time=   0.0s\n",
      "[CV] END ....................C=0.1, gamma=1.0, kernel=linear; total time=   0.0s\n",
      "[CV] END ....................C=0.1, gamma=1.0, kernel=linear; total time=   0.0s\n",
      "[CV] END ......................C=0.1, gamma=10.0, kernel=rbf; total time=   0.0s\n",
      "[CV] END ......................C=0.1, gamma=10.0, kernel=rbf; total time=   0.0s\n",
      "[CV] END ......................C=0.1, gamma=10.0, kernel=rbf; total time=   0.0s\n",
      "[CV] END ......................C=0.1, gamma=10.0, kernel=rbf; total time=   0.0s\n",
      "[CV] END ......................C=0.1, gamma=10.0, kernel=rbf; total time=   0.0s\n",
      "[CV] END ...................C=0.1, gamma=10.0, kernel=linear; total time=   0.0s\n",
      "[CV] END ...................C=0.1, gamma=10.0, kernel=linear; total time=   0.0s\n",
      "[CV] END ...................C=0.1, gamma=10.0, kernel=linear; total time=   0.0s\n",
      "[CV] END ...................C=0.1, gamma=10.0, kernel=linear; total time=   0.0s\n",
      "[CV] END ...................C=0.1, gamma=10.0, kernel=linear; total time=   0.0s\n",
      "[CV] END ......................C=0.1, gamma=20.0, kernel=rbf; total time=   0.0s\n",
      "[CV] END ......................C=0.1, gamma=20.0, kernel=rbf; total time=   0.0s\n",
      "[CV] END ......................C=0.1, gamma=20.0, kernel=rbf; total time=   0.0s\n",
      "[CV] END ......................C=0.1, gamma=20.0, kernel=rbf; total time=   0.0s\n",
      "[CV] END ......................C=0.1, gamma=20.0, kernel=rbf; total time=   0.0s\n",
      "[CV] END ...................C=0.1, gamma=20.0, kernel=linear; total time=   0.0s\n",
      "[CV] END ...................C=0.1, gamma=20.0, kernel=linear; total time=   0.0s\n",
      "[CV] END ...................C=0.1, gamma=20.0, kernel=linear; total time=   0.0s\n",
      "[CV] END ...................C=0.1, gamma=20.0, kernel=linear; total time=   0.0s\n",
      "[CV] END ...................C=0.1, gamma=20.0, kernel=linear; total time=   0.0s\n",
      "[CV] END ......................C=1.0, gamma=0.01, kernel=rbf; total time=   0.0s\n",
      "[CV] END ......................C=1.0, gamma=0.01, kernel=rbf; total time=   0.0s\n",
      "[CV] END ......................C=1.0, gamma=0.01, kernel=rbf; total time=   0.0s\n",
      "[CV] END ......................C=1.0, gamma=0.01, kernel=rbf; total time=   0.0s\n",
      "[CV] END ......................C=1.0, gamma=0.01, kernel=rbf; total time=   0.0s\n",
      "[CV] END ...................C=1.0, gamma=0.01, kernel=linear; total time=   0.0s\n",
      "[CV] END ...................C=1.0, gamma=0.01, kernel=linear; total time=   0.0s\n",
      "[CV] END ...................C=1.0, gamma=0.01, kernel=linear; total time=   0.0s\n",
      "[CV] END ...................C=1.0, gamma=0.01, kernel=linear; total time=   0.0s\n",
      "[CV] END ...................C=1.0, gamma=0.01, kernel=linear; total time=   0.0s\n",
      "[CV] END .......................C=1.0, gamma=0.1, kernel=rbf; total time=   0.0s\n",
      "[CV] END .......................C=1.0, gamma=0.1, kernel=rbf; total time=   0.0s\n",
      "[CV] END .......................C=1.0, gamma=0.1, kernel=rbf; total time=   0.0s\n",
      "[CV] END .......................C=1.0, gamma=0.1, kernel=rbf; total time=   0.0s\n",
      "[CV] END .......................C=1.0, gamma=0.1, kernel=rbf; total time=   0.0s\n",
      "[CV] END ....................C=1.0, gamma=0.1, kernel=linear; total time=   0.0s\n",
      "[CV] END ....................C=1.0, gamma=0.1, kernel=linear; total time=   0.0s\n",
      "[CV] END ....................C=1.0, gamma=0.1, kernel=linear; total time=   0.0s\n",
      "[CV] END ....................C=1.0, gamma=0.1, kernel=linear; total time=   0.0s\n",
      "[CV] END ....................C=1.0, gamma=0.1, kernel=linear; total time=   0.0s\n",
      "[CV] END .......................C=1.0, gamma=1.0, kernel=rbf; total time=   0.0s\n",
      "[CV] END .......................C=1.0, gamma=1.0, kernel=rbf; total time=   0.0s\n",
      "[CV] END .......................C=1.0, gamma=1.0, kernel=rbf; total time=   0.0s\n",
      "[CV] END .......................C=1.0, gamma=1.0, kernel=rbf; total time=   0.0s\n",
      "[CV] END .......................C=1.0, gamma=1.0, kernel=rbf; total time=   0.0s\n",
      "[CV] END ....................C=1.0, gamma=1.0, kernel=linear; total time=   0.0s\n",
      "[CV] END ....................C=1.0, gamma=1.0, kernel=linear; total time=   0.0s\n",
      "[CV] END ....................C=1.0, gamma=1.0, kernel=linear; total time=   0.0s\n",
      "[CV] END ....................C=1.0, gamma=1.0, kernel=linear; total time=   0.0s\n",
      "[CV] END ....................C=1.0, gamma=1.0, kernel=linear; total time=   0.0s\n",
      "[CV] END ......................C=1.0, gamma=10.0, kernel=rbf; total time=   0.0s\n",
      "[CV] END ......................C=1.0, gamma=10.0, kernel=rbf; total time=   0.0s\n",
      "[CV] END ......................C=1.0, gamma=10.0, kernel=rbf; total time=   0.0s\n",
      "[CV] END ......................C=1.0, gamma=10.0, kernel=rbf; total time=   0.0s\n",
      "[CV] END ......................C=1.0, gamma=10.0, kernel=rbf; total time=   0.0s\n",
      "[CV] END ...................C=1.0, gamma=10.0, kernel=linear; total time=   0.0s\n",
      "[CV] END ...................C=1.0, gamma=10.0, kernel=linear; total time=   0.0s\n",
      "[CV] END ...................C=1.0, gamma=10.0, kernel=linear; total time=   0.0s\n",
      "[CV] END ...................C=1.0, gamma=10.0, kernel=linear; total time=   0.0s\n",
      "[CV] END ...................C=1.0, gamma=10.0, kernel=linear; total time=   0.0s\n",
      "[CV] END ......................C=1.0, gamma=20.0, kernel=rbf; total time=   0.0s\n",
      "[CV] END ......................C=1.0, gamma=20.0, kernel=rbf; total time=   0.0s\n",
      "[CV] END ......................C=1.0, gamma=20.0, kernel=rbf; total time=   0.0s\n",
      "[CV] END ......................C=1.0, gamma=20.0, kernel=rbf; total time=   0.0s\n",
      "[CV] END ......................C=1.0, gamma=20.0, kernel=rbf; total time=   0.0s\n",
      "[CV] END ...................C=1.0, gamma=20.0, kernel=linear; total time=   0.0s\n",
      "[CV] END ...................C=1.0, gamma=20.0, kernel=linear; total time=   0.0s\n",
      "[CV] END ...................C=1.0, gamma=20.0, kernel=linear; total time=   0.0s\n",
      "[CV] END ...................C=1.0, gamma=20.0, kernel=linear; total time=   0.0s\n",
      "[CV] END ...................C=1.0, gamma=20.0, kernel=linear; total time=   0.0s\n",
      "[CV] END .....................C=25.0, gamma=0.01, kernel=rbf; total time=   0.0s\n",
      "[CV] END .....................C=25.0, gamma=0.01, kernel=rbf; total time=   0.0s\n",
      "[CV] END .....................C=25.0, gamma=0.01, kernel=rbf; total time=   0.0s\n",
      "[CV] END .....................C=25.0, gamma=0.01, kernel=rbf; total time=   0.0s\n",
      "[CV] END .....................C=25.0, gamma=0.01, kernel=rbf; total time=   0.0s\n"
     ]
    },
    {
     "name": "stdout",
     "output_type": "stream",
     "text": [
      "[CV] END ..................C=25.0, gamma=0.01, kernel=linear; total time=   0.4s\n",
      "[CV] END ..................C=25.0, gamma=0.01, kernel=linear; total time=   0.2s\n",
      "[CV] END ..................C=25.0, gamma=0.01, kernel=linear; total time=   0.3s\n",
      "[CV] END ..................C=25.0, gamma=0.01, kernel=linear; total time=   0.4s\n",
      "[CV] END ..................C=25.0, gamma=0.01, kernel=linear; total time=   0.3s\n",
      "[CV] END ......................C=25.0, gamma=0.1, kernel=rbf; total time=   0.0s\n",
      "[CV] END ......................C=25.0, gamma=0.1, kernel=rbf; total time=   0.0s\n",
      "[CV] END ......................C=25.0, gamma=0.1, kernel=rbf; total time=   0.0s\n",
      "[CV] END ......................C=25.0, gamma=0.1, kernel=rbf; total time=   0.0s\n",
      "[CV] END ......................C=25.0, gamma=0.1, kernel=rbf; total time=   0.0s\n",
      "[CV] END ...................C=25.0, gamma=0.1, kernel=linear; total time=   0.4s\n",
      "[CV] END ...................C=25.0, gamma=0.1, kernel=linear; total time=   0.2s\n",
      "[CV] END ...................C=25.0, gamma=0.1, kernel=linear; total time=   0.3s\n",
      "[CV] END ...................C=25.0, gamma=0.1, kernel=linear; total time=   0.4s\n",
      "[CV] END ...................C=25.0, gamma=0.1, kernel=linear; total time=   0.3s\n",
      "[CV] END ......................C=25.0, gamma=1.0, kernel=rbf; total time=   0.0s\n",
      "[CV] END ......................C=25.0, gamma=1.0, kernel=rbf; total time=   0.0s\n",
      "[CV] END ......................C=25.0, gamma=1.0, kernel=rbf; total time=   0.0s\n",
      "[CV] END ......................C=25.0, gamma=1.0, kernel=rbf; total time=   0.0s\n",
      "[CV] END ......................C=25.0, gamma=1.0, kernel=rbf; total time=   0.0s\n",
      "[CV] END ...................C=25.0, gamma=1.0, kernel=linear; total time=   0.4s\n",
      "[CV] END ...................C=25.0, gamma=1.0, kernel=linear; total time=   0.2s\n",
      "[CV] END ...................C=25.0, gamma=1.0, kernel=linear; total time=   0.3s\n",
      "[CV] END ...................C=25.0, gamma=1.0, kernel=linear; total time=   0.4s\n",
      "[CV] END ...................C=25.0, gamma=1.0, kernel=linear; total time=   0.3s\n",
      "[CV] END .....................C=25.0, gamma=10.0, kernel=rbf; total time=   0.0s\n",
      "[CV] END .....................C=25.0, gamma=10.0, kernel=rbf; total time=   0.0s\n",
      "[CV] END .....................C=25.0, gamma=10.0, kernel=rbf; total time=   0.0s\n",
      "[CV] END .....................C=25.0, gamma=10.0, kernel=rbf; total time=   0.0s\n",
      "[CV] END .....................C=25.0, gamma=10.0, kernel=rbf; total time=   0.0s\n",
      "[CV] END ..................C=25.0, gamma=10.0, kernel=linear; total time=   0.4s\n",
      "[CV] END ..................C=25.0, gamma=10.0, kernel=linear; total time=   0.2s\n",
      "[CV] END ..................C=25.0, gamma=10.0, kernel=linear; total time=   0.3s\n",
      "[CV] END ..................C=25.0, gamma=10.0, kernel=linear; total time=   0.4s\n",
      "[CV] END ..................C=25.0, gamma=10.0, kernel=linear; total time=   0.3s\n",
      "[CV] END .....................C=25.0, gamma=20.0, kernel=rbf; total time=   0.0s\n",
      "[CV] END .....................C=25.0, gamma=20.0, kernel=rbf; total time=   0.0s\n",
      "[CV] END .....................C=25.0, gamma=20.0, kernel=rbf; total time=   0.0s\n",
      "[CV] END .....................C=25.0, gamma=20.0, kernel=rbf; total time=   0.0s\n",
      "[CV] END .....................C=25.0, gamma=20.0, kernel=rbf; total time=   0.0s\n",
      "[CV] END ..................C=25.0, gamma=20.0, kernel=linear; total time=   0.4s\n",
      "[CV] END ..................C=25.0, gamma=20.0, kernel=linear; total time=   0.2s\n",
      "[CV] END ..................C=25.0, gamma=20.0, kernel=linear; total time=   0.3s\n",
      "[CV] END ..................C=25.0, gamma=20.0, kernel=linear; total time=   0.5s\n",
      "[CV] END ..................C=25.0, gamma=20.0, kernel=linear; total time=   0.3s\n",
      "[CV] END .....................C=50.0, gamma=0.01, kernel=rbf; total time=   0.0s\n",
      "[CV] END .....................C=50.0, gamma=0.01, kernel=rbf; total time=   0.0s\n",
      "[CV] END .....................C=50.0, gamma=0.01, kernel=rbf; total time=   0.0s\n",
      "[CV] END .....................C=50.0, gamma=0.01, kernel=rbf; total time=   0.0s\n",
      "[CV] END .....................C=50.0, gamma=0.01, kernel=rbf; total time=   0.0s\n",
      "[CV] END ..................C=50.0, gamma=0.01, kernel=linear; total time=   0.9s\n",
      "[CV] END ..................C=50.0, gamma=0.01, kernel=linear; total time=   0.7s\n",
      "[CV] END ..................C=50.0, gamma=0.01, kernel=linear; total time=   0.6s\n",
      "[CV] END ..................C=50.0, gamma=0.01, kernel=linear; total time=   0.4s\n",
      "[CV] END ..................C=50.0, gamma=0.01, kernel=linear; total time=   0.6s\n",
      "[CV] END ......................C=50.0, gamma=0.1, kernel=rbf; total time=   0.0s\n",
      "[CV] END ......................C=50.0, gamma=0.1, kernel=rbf; total time=   0.0s\n",
      "[CV] END ......................C=50.0, gamma=0.1, kernel=rbf; total time=   0.0s\n",
      "[CV] END ......................C=50.0, gamma=0.1, kernel=rbf; total time=   0.0s\n",
      "[CV] END ......................C=50.0, gamma=0.1, kernel=rbf; total time=   0.0s\n",
      "[CV] END ...................C=50.0, gamma=0.1, kernel=linear; total time=   0.8s\n",
      "[CV] END ...................C=50.0, gamma=0.1, kernel=linear; total time=   0.7s\n",
      "[CV] END ...................C=50.0, gamma=0.1, kernel=linear; total time=   0.6s\n",
      "[CV] END ...................C=50.0, gamma=0.1, kernel=linear; total time=   0.4s\n",
      "[CV] END ...................C=50.0, gamma=0.1, kernel=linear; total time=   0.5s\n",
      "[CV] END ......................C=50.0, gamma=1.0, kernel=rbf; total time=   0.0s\n",
      "[CV] END ......................C=50.0, gamma=1.0, kernel=rbf; total time=   0.0s\n",
      "[CV] END ......................C=50.0, gamma=1.0, kernel=rbf; total time=   0.0s\n",
      "[CV] END ......................C=50.0, gamma=1.0, kernel=rbf; total time=   0.0s\n",
      "[CV] END ......................C=50.0, gamma=1.0, kernel=rbf; total time=   0.0s\n",
      "[CV] END ...................C=50.0, gamma=1.0, kernel=linear; total time=   0.9s\n",
      "[CV] END ...................C=50.0, gamma=1.0, kernel=linear; total time=   0.7s\n",
      "[CV] END ...................C=50.0, gamma=1.0, kernel=linear; total time=   0.6s\n",
      "[CV] END ...................C=50.0, gamma=1.0, kernel=linear; total time=   0.4s\n",
      "[CV] END ...................C=50.0, gamma=1.0, kernel=linear; total time=   0.6s\n",
      "[CV] END .....................C=50.0, gamma=10.0, kernel=rbf; total time=   0.0s\n",
      "[CV] END .....................C=50.0, gamma=10.0, kernel=rbf; total time=   0.0s\n",
      "[CV] END .....................C=50.0, gamma=10.0, kernel=rbf; total time=   0.0s\n",
      "[CV] END .....................C=50.0, gamma=10.0, kernel=rbf; total time=   0.0s\n",
      "[CV] END .....................C=50.0, gamma=10.0, kernel=rbf; total time=   0.0s\n",
      "[CV] END ..................C=50.0, gamma=10.0, kernel=linear; total time=   0.9s\n",
      "[CV] END ..................C=50.0, gamma=10.0, kernel=linear; total time=   0.7s\n",
      "[CV] END ..................C=50.0, gamma=10.0, kernel=linear; total time=   0.6s\n",
      "[CV] END ..................C=50.0, gamma=10.0, kernel=linear; total time=   0.4s\n",
      "[CV] END ..................C=50.0, gamma=10.0, kernel=linear; total time=   0.6s\n",
      "[CV] END .....................C=50.0, gamma=20.0, kernel=rbf; total time=   0.0s\n",
      "[CV] END .....................C=50.0, gamma=20.0, kernel=rbf; total time=   0.0s\n",
      "[CV] END .....................C=50.0, gamma=20.0, kernel=rbf; total time=   0.0s\n",
      "[CV] END .....................C=50.0, gamma=20.0, kernel=rbf; total time=   0.0s\n",
      "[CV] END .....................C=50.0, gamma=20.0, kernel=rbf; total time=   0.0s\n",
      "[CV] END ..................C=50.0, gamma=20.0, kernel=linear; total time=   0.8s\n",
      "[CV] END ..................C=50.0, gamma=20.0, kernel=linear; total time=   0.7s\n",
      "[CV] END ..................C=50.0, gamma=20.0, kernel=linear; total time=   0.6s\n",
      "[CV] END ..................C=50.0, gamma=20.0, kernel=linear; total time=   0.4s\n",
      "[CV] END ..................C=50.0, gamma=20.0, kernel=linear; total time=   0.6s\n",
      "[CV] END ......................C=100, gamma=0.01, kernel=rbf; total time=   0.0s\n",
      "[CV] END ......................C=100, gamma=0.01, kernel=rbf; total time=   0.0s\n",
      "[CV] END ......................C=100, gamma=0.01, kernel=rbf; total time=   0.0s\n",
      "[CV] END ......................C=100, gamma=0.01, kernel=rbf; total time=   0.0s\n",
      "[CV] END ......................C=100, gamma=0.01, kernel=rbf; total time=   0.0s\n",
      "[CV] END ...................C=100, gamma=0.01, kernel=linear; total time=   1.6s\n",
      "[CV] END ...................C=100, gamma=0.01, kernel=linear; total time=   1.4s\n"
     ]
    },
    {
     "name": "stdout",
     "output_type": "stream",
     "text": [
      "[CV] END ...................C=100, gamma=0.01, kernel=linear; total time=   1.0s\n",
      "[CV] END ...................C=100, gamma=0.01, kernel=linear; total time=   0.8s\n",
      "[CV] END ...................C=100, gamma=0.01, kernel=linear; total time=   1.2s\n",
      "[CV] END .......................C=100, gamma=0.1, kernel=rbf; total time=   0.0s\n",
      "[CV] END .......................C=100, gamma=0.1, kernel=rbf; total time=   0.0s\n",
      "[CV] END .......................C=100, gamma=0.1, kernel=rbf; total time=   0.0s\n",
      "[CV] END .......................C=100, gamma=0.1, kernel=rbf; total time=   0.0s\n",
      "[CV] END .......................C=100, gamma=0.1, kernel=rbf; total time=   0.0s\n",
      "[CV] END ....................C=100, gamma=0.1, kernel=linear; total time=   1.6s\n",
      "[CV] END ....................C=100, gamma=0.1, kernel=linear; total time=   1.4s\n",
      "[CV] END ....................C=100, gamma=0.1, kernel=linear; total time=   0.9s\n",
      "[CV] END ....................C=100, gamma=0.1, kernel=linear; total time=   0.8s\n",
      "[CV] END ....................C=100, gamma=0.1, kernel=linear; total time=   1.2s\n",
      "[CV] END .......................C=100, gamma=1.0, kernel=rbf; total time=   0.0s\n",
      "[CV] END .......................C=100, gamma=1.0, kernel=rbf; total time=   0.0s\n",
      "[CV] END .......................C=100, gamma=1.0, kernel=rbf; total time=   0.0s\n",
      "[CV] END .......................C=100, gamma=1.0, kernel=rbf; total time=   0.0s\n",
      "[CV] END .......................C=100, gamma=1.0, kernel=rbf; total time=   0.0s\n",
      "[CV] END ....................C=100, gamma=1.0, kernel=linear; total time=   1.7s\n",
      "[CV] END ....................C=100, gamma=1.0, kernel=linear; total time=   1.4s\n",
      "[CV] END ....................C=100, gamma=1.0, kernel=linear; total time=   0.9s\n",
      "[CV] END ....................C=100, gamma=1.0, kernel=linear; total time=   0.8s\n",
      "[CV] END ....................C=100, gamma=1.0, kernel=linear; total time=   1.2s\n",
      "[CV] END ......................C=100, gamma=10.0, kernel=rbf; total time=   0.0s\n",
      "[CV] END ......................C=100, gamma=10.0, kernel=rbf; total time=   0.0s\n",
      "[CV] END ......................C=100, gamma=10.0, kernel=rbf; total time=   0.0s\n",
      "[CV] END ......................C=100, gamma=10.0, kernel=rbf; total time=   0.0s\n",
      "[CV] END ......................C=100, gamma=10.0, kernel=rbf; total time=   0.0s\n",
      "[CV] END ...................C=100, gamma=10.0, kernel=linear; total time=   1.6s\n",
      "[CV] END ...................C=100, gamma=10.0, kernel=linear; total time=   1.4s\n",
      "[CV] END ...................C=100, gamma=10.0, kernel=linear; total time=   0.9s\n",
      "[CV] END ...................C=100, gamma=10.0, kernel=linear; total time=   0.8s\n",
      "[CV] END ...................C=100, gamma=10.0, kernel=linear; total time=   1.2s\n",
      "[CV] END ......................C=100, gamma=20.0, kernel=rbf; total time=   0.0s\n",
      "[CV] END ......................C=100, gamma=20.0, kernel=rbf; total time=   0.0s\n",
      "[CV] END ......................C=100, gamma=20.0, kernel=rbf; total time=   0.0s\n",
      "[CV] END ......................C=100, gamma=20.0, kernel=rbf; total time=   0.0s\n",
      "[CV] END ......................C=100, gamma=20.0, kernel=rbf; total time=   0.0s\n",
      "[CV] END ...................C=100, gamma=20.0, kernel=linear; total time=   1.7s\n",
      "[CV] END ...................C=100, gamma=20.0, kernel=linear; total time=   1.4s\n",
      "[CV] END ...................C=100, gamma=20.0, kernel=linear; total time=   0.9s\n",
      "[CV] END ...................C=100, gamma=20.0, kernel=linear; total time=   0.8s\n",
      "[CV] END ...................C=100, gamma=20.0, kernel=linear; total time=   1.2s\n",
      "[CV] END ......................C=150, gamma=0.01, kernel=rbf; total time=   0.0s\n",
      "[CV] END ......................C=150, gamma=0.01, kernel=rbf; total time=   0.0s\n",
      "[CV] END ......................C=150, gamma=0.01, kernel=rbf; total time=   0.0s\n",
      "[CV] END ......................C=150, gamma=0.01, kernel=rbf; total time=   0.0s\n",
      "[CV] END ......................C=150, gamma=0.01, kernel=rbf; total time=   0.0s\n",
      "[CV] END ...................C=150, gamma=0.01, kernel=linear; total time=   2.9s\n",
      "[CV] END ...................C=150, gamma=0.01, kernel=linear; total time=   1.8s\n",
      "[CV] END ...................C=150, gamma=0.01, kernel=linear; total time=   1.8s\n",
      "[CV] END ...................C=150, gamma=0.01, kernel=linear; total time=   1.4s\n",
      "[CV] END ...................C=150, gamma=0.01, kernel=linear; total time=   1.9s\n",
      "[CV] END .......................C=150, gamma=0.1, kernel=rbf; total time=   0.0s\n",
      "[CV] END .......................C=150, gamma=0.1, kernel=rbf; total time=   0.0s\n",
      "[CV] END .......................C=150, gamma=0.1, kernel=rbf; total time=   0.0s\n",
      "[CV] END .......................C=150, gamma=0.1, kernel=rbf; total time=   0.0s\n",
      "[CV] END .......................C=150, gamma=0.1, kernel=rbf; total time=   0.0s\n",
      "[CV] END ....................C=150, gamma=0.1, kernel=linear; total time=   2.9s\n",
      "[CV] END ....................C=150, gamma=0.1, kernel=linear; total time=   1.8s\n",
      "[CV] END ....................C=150, gamma=0.1, kernel=linear; total time=   1.8s\n",
      "[CV] END ....................C=150, gamma=0.1, kernel=linear; total time=   1.4s\n",
      "[CV] END ....................C=150, gamma=0.1, kernel=linear; total time=   1.9s\n",
      "[CV] END .......................C=150, gamma=1.0, kernel=rbf; total time=   0.0s\n",
      "[CV] END .......................C=150, gamma=1.0, kernel=rbf; total time=   0.0s\n",
      "[CV] END .......................C=150, gamma=1.0, kernel=rbf; total time=   0.0s\n",
      "[CV] END .......................C=150, gamma=1.0, kernel=rbf; total time=   0.0s\n",
      "[CV] END .......................C=150, gamma=1.0, kernel=rbf; total time=   0.0s\n",
      "[CV] END ....................C=150, gamma=1.0, kernel=linear; total time=   2.9s\n",
      "[CV] END ....................C=150, gamma=1.0, kernel=linear; total time=   1.8s\n",
      "[CV] END ....................C=150, gamma=1.0, kernel=linear; total time=   1.8s\n",
      "[CV] END ....................C=150, gamma=1.0, kernel=linear; total time=   1.4s\n",
      "[CV] END ....................C=150, gamma=1.0, kernel=linear; total time=   1.9s\n",
      "[CV] END ......................C=150, gamma=10.0, kernel=rbf; total time=   0.0s\n",
      "[CV] END ......................C=150, gamma=10.0, kernel=rbf; total time=   0.0s\n",
      "[CV] END ......................C=150, gamma=10.0, kernel=rbf; total time=   0.0s\n",
      "[CV] END ......................C=150, gamma=10.0, kernel=rbf; total time=   0.0s\n",
      "[CV] END ......................C=150, gamma=10.0, kernel=rbf; total time=   0.0s\n",
      "[CV] END ...................C=150, gamma=10.0, kernel=linear; total time=   2.8s\n",
      "[CV] END ...................C=150, gamma=10.0, kernel=linear; total time=   1.8s\n",
      "[CV] END ...................C=150, gamma=10.0, kernel=linear; total time=   1.9s\n",
      "[CV] END ...................C=150, gamma=10.0, kernel=linear; total time=   1.4s\n",
      "[CV] END ...................C=150, gamma=10.0, kernel=linear; total time=   1.9s\n",
      "[CV] END ......................C=150, gamma=20.0, kernel=rbf; total time=   0.0s\n",
      "[CV] END ......................C=150, gamma=20.0, kernel=rbf; total time=   0.0s\n",
      "[CV] END ......................C=150, gamma=20.0, kernel=rbf; total time=   0.0s\n",
      "[CV] END ......................C=150, gamma=20.0, kernel=rbf; total time=   0.0s\n",
      "[CV] END ......................C=150, gamma=20.0, kernel=rbf; total time=   0.0s\n",
      "[CV] END ...................C=150, gamma=20.0, kernel=linear; total time=   2.8s\n",
      "[CV] END ...................C=150, gamma=20.0, kernel=linear; total time=   1.8s\n",
      "[CV] END ...................C=150, gamma=20.0, kernel=linear; total time=   1.8s\n",
      "[CV] END ...................C=150, gamma=20.0, kernel=linear; total time=   1.4s\n",
      "[CV] END ...................C=150, gamma=20.0, kernel=linear; total time=   1.9s\n"
     ]
    },
    {
     "data": {
      "text/plain": [
       "GridSearchCV(estimator=SVC(),\n",
       "             param_grid={'C': [0.1, 1.0, 25.0, 50.0, 100, 150],\n",
       "                         'gamma': [0.01, 0.1, 1.0, 10.0, 20.0],\n",
       "                         'kernel': ['rbf', 'linear']},\n",
       "             verbose=2)"
      ]
     },
     "execution_count": 58,
     "metadata": {},
     "output_type": "execute_result"
    }
   ],
   "source": [
    "from sklearn.svm import SVC\n",
    "from sklearn.model_selection import GridSearchCV\n",
    "gscv = GridSearchCV(SVC(), param_grid=params, verbose=2)  # GridSearchCV helps show all the combinations\n",
    "gscv.fit(x_train, y_train)"
   ]
  },
  {
   "cell_type": "code",
   "execution_count": 59,
   "id": "cdfd487b",
   "metadata": {},
   "outputs": [
    {
     "data": {
      "text/plain": [
       "{'C': 25.0, 'gamma': 10.0, 'kernel': 'rbf'}"
      ]
     },
     "execution_count": 59,
     "metadata": {},
     "output_type": "execute_result"
    }
   ],
   "source": [
    "gscv.best_params_"
   ]
  },
  {
   "cell_type": "code",
   "execution_count": 60,
   "id": "8148e3ba",
   "metadata": {},
   "outputs": [
    {
     "data": {
      "text/plain": [
       "0.5583333333333333"
      ]
     },
     "execution_count": 60,
     "metadata": {},
     "output_type": "execute_result"
    }
   ],
   "source": [
    "gscv.best_score_"
   ]
  },
  {
   "cell_type": "code",
   "execution_count": 70,
   "id": "968bfc25",
   "metadata": {},
   "outputs": [],
   "source": [
    "x_train, x_test, y_train, y_test = train_test_split(x, y, test_size = 0.2, random_state = 4)"
   ]
  },
  {
   "cell_type": "code",
   "execution_count": 71,
   "id": "35aa8e12",
   "metadata": {},
   "outputs": [
    {
     "data": {
      "text/plain": [
       "SVC(C=25, gamma=10)"
      ]
     },
     "execution_count": 71,
     "metadata": {},
     "output_type": "execute_result"
    }
   ],
   "source": [
    "model=SVC(C = 25, gamma = 10, kernel='rbf')  # using the params we get from the best params\n",
    "model.fit(x_train, y_train)"
   ]
  },
  {
   "cell_type": "code",
   "execution_count": 72,
   "id": "480dcad5",
   "metadata": {},
   "outputs": [
    {
     "name": "stdout",
     "output_type": "stream",
     "text": [
      "Test Accuracy : 0.5483870967741935\n",
      "Train Accuracy : 0.975\n"
     ]
    }
   ],
   "source": [
    "y_predict=model.predict(x_test)\n",
    "svm = accuracy_score(y_test,y_predict)\n",
    "\n",
    "y_predict1=model.predict(x_train)\n",
    "svm1 = accuracy_score(y_train,y_predict1)\n",
    "\n",
    "print('Test Accuracy :', svm)\n",
    "print('Train Accuracy :', svm1)"
   ]
  },
  {
   "cell_type": "code",
   "execution_count": 73,
   "id": "95bfb2ae",
   "metadata": {},
   "outputs": [
    {
     "data": {
      "text/html": [
       "<div>\n",
       "<style scoped>\n",
       "    .dataframe tbody tr th:only-of-type {\n",
       "        vertical-align: middle;\n",
       "    }\n",
       "\n",
       "    .dataframe tbody tr th {\n",
       "        vertical-align: top;\n",
       "    }\n",
       "\n",
       "    .dataframe thead th {\n",
       "        text-align: right;\n",
       "    }\n",
       "</style>\n",
       "<table border=\"1\" class=\"dataframe\">\n",
       "  <thead>\n",
       "    <tr style=\"text-align: right;\">\n",
       "      <th>col_0</th>\n",
       "      <th>1</th>\n",
       "      <th>2</th>\n",
       "      <th>3</th>\n",
       "    </tr>\n",
       "    <tr>\n",
       "      <th>Performance</th>\n",
       "      <th></th>\n",
       "      <th></th>\n",
       "      <th></th>\n",
       "    </tr>\n",
       "  </thead>\n",
       "  <tbody>\n",
       "    <tr>\n",
       "      <th>1</th>\n",
       "      <td>6</td>\n",
       "      <td>0</td>\n",
       "      <td>1</td>\n",
       "    </tr>\n",
       "    <tr>\n",
       "      <th>2</th>\n",
       "      <td>5</td>\n",
       "      <td>8</td>\n",
       "      <td>1</td>\n",
       "    </tr>\n",
       "    <tr>\n",
       "      <th>3</th>\n",
       "      <td>7</td>\n",
       "      <td>0</td>\n",
       "      <td>3</td>\n",
       "    </tr>\n",
       "  </tbody>\n",
       "</table>\n",
       "</div>"
      ],
      "text/plain": [
       "col_0        1  2  3\n",
       "Performance         \n",
       "1            6  0  1\n",
       "2            5  8  1\n",
       "3            7  0  3"
      ]
     },
     "execution_count": 73,
     "metadata": {},
     "output_type": "execute_result"
    }
   ],
   "source": [
    "pd.crosstab(y_test, y_predict)"
   ]
  },
  {
   "cell_type": "code",
   "execution_count": 74,
   "id": "e5673e40",
   "metadata": {},
   "outputs": [
    {
     "name": "stdout",
     "output_type": "stream",
     "text": [
      "              precision    recall  f1-score   support\n",
      "\n",
      "           1       0.33      0.86      0.48         7\n",
      "           2       1.00      0.57      0.73        14\n",
      "           3       0.60      0.30      0.40        10\n",
      "\n",
      "    accuracy                           0.55        31\n",
      "   macro avg       0.64      0.58      0.54        31\n",
      "weighted avg       0.72      0.55      0.57        31\n",
      "\n",
      "              precision    recall  f1-score   support\n",
      "\n",
      "           1       0.95      1.00      0.98        42\n",
      "           2       1.00      0.92      0.96        36\n",
      "           3       0.98      1.00      0.99        42\n",
      "\n",
      "    accuracy                           0.97       120\n",
      "   macro avg       0.98      0.97      0.97       120\n",
      "weighted avg       0.98      0.97      0.97       120\n",
      "\n"
     ]
    }
   ],
   "source": [
    "print(classification_report(y_test,y_predict))\n",
    "print(classification_report(y_train,y_predict1))"
   ]
  },
  {
   "cell_type": "markdown",
   "id": "d4d96a8e",
   "metadata": {},
   "source": [
    "## 5. Random Forest"
   ]
  },
  {
   "cell_type": "code",
   "execution_count": 80,
   "id": "12fb19f7",
   "metadata": {},
   "outputs": [],
   "source": [
    "x_train, x_test, y_train, y_test = train_test_split(x, y, test_size = 0.2, random_state = 4)"
   ]
  },
  {
   "cell_type": "code",
   "execution_count": 81,
   "id": "1936a9c1",
   "metadata": {},
   "outputs": [
    {
     "data": {
      "text/plain": [
       "RandomForestClassifier(n_estimators=10, random_state=0)"
      ]
     },
     "execution_count": 81,
     "metadata": {},
     "output_type": "execute_result"
    }
   ],
   "source": [
    "from sklearn.ensemble import RandomForestClassifier\n",
    "model = RandomForestClassifier(n_estimators=10, criterion='gini', random_state = 0)\n",
    "model.fit(x_train,y_train)"
   ]
  },
  {
   "cell_type": "code",
   "execution_count": 82,
   "id": "17146b91",
   "metadata": {},
   "outputs": [
    {
     "name": "stdout",
     "output_type": "stream",
     "text": [
      "Test Accuracy : 0.6451612903225806\n",
      "Train Accuracy : 0.9583333333333334\n"
     ]
    }
   ],
   "source": [
    "y_predict=model.predict(x_test)\n",
    "rf = accuracy_score(y_test,y_predict)\n",
    "\n",
    "y_predict1=model.predict(x_train)\n",
    "rf1 = accuracy_score(y_train,y_predict1)\n",
    "\n",
    "print('Test Accuracy :', rf)\n",
    "print('Train Accuracy :', rf1)"
   ]
  },
  {
   "cell_type": "code",
   "execution_count": 83,
   "id": "bbc7d27a",
   "metadata": {},
   "outputs": [
    {
     "data": {
      "text/html": [
       "<div>\n",
       "<style scoped>\n",
       "    .dataframe tbody tr th:only-of-type {\n",
       "        vertical-align: middle;\n",
       "    }\n",
       "\n",
       "    .dataframe tbody tr th {\n",
       "        vertical-align: top;\n",
       "    }\n",
       "\n",
       "    .dataframe thead th {\n",
       "        text-align: right;\n",
       "    }\n",
       "</style>\n",
       "<table border=\"1\" class=\"dataframe\">\n",
       "  <thead>\n",
       "    <tr style=\"text-align: right;\">\n",
       "      <th>col_0</th>\n",
       "      <th>1</th>\n",
       "      <th>2</th>\n",
       "      <th>3</th>\n",
       "    </tr>\n",
       "    <tr>\n",
       "      <th>Performance</th>\n",
       "      <th></th>\n",
       "      <th></th>\n",
       "      <th></th>\n",
       "    </tr>\n",
       "  </thead>\n",
       "  <tbody>\n",
       "    <tr>\n",
       "      <th>1</th>\n",
       "      <td>4</td>\n",
       "      <td>2</td>\n",
       "      <td>1</td>\n",
       "    </tr>\n",
       "    <tr>\n",
       "      <th>2</th>\n",
       "      <td>4</td>\n",
       "      <td>7</td>\n",
       "      <td>3</td>\n",
       "    </tr>\n",
       "    <tr>\n",
       "      <th>3</th>\n",
       "      <td>1</td>\n",
       "      <td>0</td>\n",
       "      <td>9</td>\n",
       "    </tr>\n",
       "  </tbody>\n",
       "</table>\n",
       "</div>"
      ],
      "text/plain": [
       "col_0        1  2  3\n",
       "Performance         \n",
       "1            4  2  1\n",
       "2            4  7  3\n",
       "3            1  0  9"
      ]
     },
     "execution_count": 83,
     "metadata": {},
     "output_type": "execute_result"
    }
   ],
   "source": [
    "pd.crosstab(y_test, y_predict)"
   ]
  },
  {
   "cell_type": "code",
   "execution_count": 84,
   "id": "a12eb35e",
   "metadata": {},
   "outputs": [
    {
     "name": "stdout",
     "output_type": "stream",
     "text": [
      "              precision    recall  f1-score   support\n",
      "\n",
      "           1       0.44      0.57      0.50         7\n",
      "           2       0.78      0.50      0.61        14\n",
      "           3       0.69      0.90      0.78        10\n",
      "\n",
      "    accuracy                           0.65        31\n",
      "   macro avg       0.64      0.66      0.63        31\n",
      "weighted avg       0.67      0.65      0.64        31\n",
      "\n",
      "              precision    recall  f1-score   support\n",
      "\n",
      "           1       0.93      1.00      0.97        42\n",
      "           2       1.00      0.86      0.93        36\n",
      "           3       0.95      1.00      0.98        42\n",
      "\n",
      "    accuracy                           0.96       120\n",
      "   macro avg       0.96      0.95      0.96       120\n",
      "weighted avg       0.96      0.96      0.96       120\n",
      "\n"
     ]
    }
   ],
   "source": [
    "print(classification_report(y_test,y_predict))\n",
    "print(classification_report(y_train,y_predict1))"
   ]
  },
  {
   "cell_type": "markdown",
   "id": "b96d2c15",
   "metadata": {},
   "source": [
    "## 6. XG Boost"
   ]
  },
  {
   "cell_type": "code",
   "execution_count": 85,
   "id": "b53b5bb9",
   "metadata": {},
   "outputs": [
    {
     "name": "stderr",
     "output_type": "stream",
     "text": [
      "C:\\Users\\God\\anaconda3\\lib\\site-packages\\xgboost\\sklearn.py:1224: UserWarning: The use of label encoder in XGBClassifier is deprecated and will be removed in a future release. To remove this warning, do the following: 1) Pass option use_label_encoder=False when constructing XGBClassifier object; and 2) Encode your labels (y) as integers starting with 0, i.e. 0, 1, 2, ..., [num_class - 1].\n",
      "  warnings.warn(label_encoder_deprecation_msg, UserWarning)\n"
     ]
    },
    {
     "name": "stdout",
     "output_type": "stream",
     "text": [
      "[16:21:35] WARNING: C:/Users/Administrator/workspace/xgboost-win64_release_1.5.0/src/learner.cc:1115: Starting in XGBoost 1.3.0, the default evaluation metric used with the objective 'multi:softprob' was changed from 'merror' to 'mlogloss'. Explicitly set eval_metric if you'd like to restore the old behavior.\n"
     ]
    },
    {
     "data": {
      "text/plain": [
       "XGBClassifier(base_score=0.5, booster='gbtree', colsample_bylevel=1,\n",
       "              colsample_bynode=1, colsample_bytree=1, enable_categorical=False,\n",
       "              gamma=0, gpu_id=-1, importance_type=None,\n",
       "              interaction_constraints='', learning_rate=0.300000012,\n",
       "              max_delta_step=0, max_depth=6, min_child_weight=1, missing=nan,\n",
       "              monotone_constraints='()', n_estimators=100, n_jobs=4,\n",
       "              num_parallel_tree=1, objective='multi:softprob', predictor='auto',\n",
       "              random_state=0, reg_alpha=0, reg_lambda=1, scale_pos_weight=None,\n",
       "              subsample=1, tree_method='exact', validate_parameters=1,\n",
       "              verbosity=None)"
      ]
     },
     "execution_count": 85,
     "metadata": {},
     "output_type": "execute_result"
    }
   ],
   "source": [
    "x_train, x_test, y_train, y_test = train_test_split(x, y, test_size = 0.2, random_state = 8)\n",
    "\n",
    "from xgboost import XGBClassifier\n",
    "model = XGBClassifier()\n",
    "\n",
    "model.fit(x_train,y_train)"
   ]
  },
  {
   "cell_type": "code",
   "execution_count": 86,
   "id": "a67c8af0",
   "metadata": {},
   "outputs": [
    {
     "name": "stdout",
     "output_type": "stream",
     "text": [
      "Test Accuracy : 0.7419354838709677\n",
      "Train Accuracy : 0.9583333333333334\n"
     ]
    }
   ],
   "source": [
    "y_predict=model.predict(x_test)\n",
    "xgb = accuracy_score(y_test,y_predict)\n",
    "\n",
    "y_predict1=model.predict(x_train)\n",
    "xgb1 = accuracy_score(y_train,y_predict1)\n",
    "\n",
    "print('Test Accuracy :', xgb)\n",
    "print('Train Accuracy :', xgb1)"
   ]
  },
  {
   "cell_type": "code",
   "execution_count": 87,
   "id": "5833054f",
   "metadata": {},
   "outputs": [
    {
     "data": {
      "text/html": [
       "<div>\n",
       "<style scoped>\n",
       "    .dataframe tbody tr th:only-of-type {\n",
       "        vertical-align: middle;\n",
       "    }\n",
       "\n",
       "    .dataframe tbody tr th {\n",
       "        vertical-align: top;\n",
       "    }\n",
       "\n",
       "    .dataframe thead th {\n",
       "        text-align: right;\n",
       "    }\n",
       "</style>\n",
       "<table border=\"1\" class=\"dataframe\">\n",
       "  <thead>\n",
       "    <tr style=\"text-align: right;\">\n",
       "      <th>col_0</th>\n",
       "      <th>1</th>\n",
       "      <th>2</th>\n",
       "      <th>3</th>\n",
       "    </tr>\n",
       "    <tr>\n",
       "      <th>Performance</th>\n",
       "      <th></th>\n",
       "      <th></th>\n",
       "      <th></th>\n",
       "    </tr>\n",
       "  </thead>\n",
       "  <tbody>\n",
       "    <tr>\n",
       "      <th>1</th>\n",
       "      <td>12</td>\n",
       "      <td>0</td>\n",
       "      <td>1</td>\n",
       "    </tr>\n",
       "    <tr>\n",
       "      <th>2</th>\n",
       "      <td>4</td>\n",
       "      <td>3</td>\n",
       "      <td>2</td>\n",
       "    </tr>\n",
       "    <tr>\n",
       "      <th>3</th>\n",
       "      <td>1</td>\n",
       "      <td>0</td>\n",
       "      <td>8</td>\n",
       "    </tr>\n",
       "  </tbody>\n",
       "</table>\n",
       "</div>"
      ],
      "text/plain": [
       "col_0         1  2  3\n",
       "Performance          \n",
       "1            12  0  1\n",
       "2             4  3  2\n",
       "3             1  0  8"
      ]
     },
     "execution_count": 87,
     "metadata": {},
     "output_type": "execute_result"
    }
   ],
   "source": [
    "pd.crosstab(y_test, y_predict)"
   ]
  },
  {
   "cell_type": "code",
   "execution_count": 88,
   "id": "328e95ca",
   "metadata": {},
   "outputs": [
    {
     "name": "stdout",
     "output_type": "stream",
     "text": [
      "              precision    recall  f1-score   support\n",
      "\n",
      "           1       0.71      0.92      0.80        13\n",
      "           2       1.00      0.33      0.50         9\n",
      "           3       0.73      0.89      0.80         9\n",
      "\n",
      "    accuracy                           0.74        31\n",
      "   macro avg       0.81      0.72      0.70        31\n",
      "weighted avg       0.80      0.74      0.71        31\n",
      "\n",
      "              precision    recall  f1-score   support\n",
      "\n",
      "           1       0.97      0.97      0.97        36\n",
      "           2       0.97      0.93      0.95        41\n",
      "           3       0.93      0.98      0.95        43\n",
      "\n",
      "    accuracy                           0.96       120\n",
      "   macro avg       0.96      0.96      0.96       120\n",
      "weighted avg       0.96      0.96      0.96       120\n",
      "\n"
     ]
    }
   ],
   "source": [
    "print(classification_report(y_test,y_predict))\n",
    "print(classification_report(y_train,y_predict1))"
   ]
  },
  {
   "cell_type": "markdown",
   "id": "e96bfe59",
   "metadata": {},
   "source": [
    "## Comparison"
   ]
  },
  {
   "cell_type": "code",
   "execution_count": 90,
   "id": "95ed09ec",
   "metadata": {},
   "outputs": [
    {
     "data": {
      "text/html": [
       "<div>\n",
       "<style scoped>\n",
       "    .dataframe tbody tr th:only-of-type {\n",
       "        vertical-align: middle;\n",
       "    }\n",
       "\n",
       "    .dataframe tbody tr th {\n",
       "        vertical-align: top;\n",
       "    }\n",
       "\n",
       "    .dataframe thead th {\n",
       "        text-align: right;\n",
       "    }\n",
       "</style>\n",
       "<table border=\"1\" class=\"dataframe\">\n",
       "  <thead>\n",
       "    <tr style=\"text-align: right;\">\n",
       "      <th></th>\n",
       "      <th>Algorithm</th>\n",
       "      <th>Test Score</th>\n",
       "      <th>Train Score</th>\n",
       "    </tr>\n",
       "  </thead>\n",
       "  <tbody>\n",
       "    <tr>\n",
       "      <th>0</th>\n",
       "      <td>Logistic</td>\n",
       "      <td>45.2</td>\n",
       "      <td>51.7</td>\n",
       "    </tr>\n",
       "    <tr>\n",
       "      <th>1</th>\n",
       "      <td>Naive Bayes</td>\n",
       "      <td>58.1</td>\n",
       "      <td>55.8</td>\n",
       "    </tr>\n",
       "    <tr>\n",
       "      <th>2</th>\n",
       "      <td>KNN</td>\n",
       "      <td>48.4</td>\n",
       "      <td>51.7</td>\n",
       "    </tr>\n",
       "    <tr>\n",
       "      <th>3</th>\n",
       "      <td>SVM</td>\n",
       "      <td>54.8</td>\n",
       "      <td>97.5</td>\n",
       "    </tr>\n",
       "    <tr>\n",
       "      <th>4</th>\n",
       "      <td>Random Forest</td>\n",
       "      <td>64.5</td>\n",
       "      <td>95.8</td>\n",
       "    </tr>\n",
       "    <tr>\n",
       "      <th>5</th>\n",
       "      <td>XG Boost</td>\n",
       "      <td>74.2</td>\n",
       "      <td>95.8</td>\n",
       "    </tr>\n",
       "  </tbody>\n",
       "</table>\n",
       "</div>"
      ],
      "text/plain": [
       "       Algorithm Test Score Train Score\n",
       "0       Logistic       45.2        51.7\n",
       "1    Naive Bayes       58.1        55.8\n",
       "2            KNN       48.4        51.7\n",
       "3            SVM       54.8        97.5\n",
       "4  Random Forest       64.5        95.8\n",
       "5       XG Boost       74.2        95.8"
      ]
     },
     "execution_count": 90,
     "metadata": {},
     "output_type": "execute_result"
    }
   ],
   "source": [
    "details = {\n",
    "    'Algorithm' : ['Logistic', 'Naive Bayes', 'KNN', 'SVM', 'Random Forest', 'XG Boost'],\n",
    "    \n",
    "    'Test Score' : [\"{:0.1f}\".format(lr*100),\n",
    "                    \"{:0.1f}\".format(nb*100),\n",
    "                    \"{:0.1f}\".format(knn*100),\n",
    "                    \"{:0.1f}\".format(svm*100),\n",
    "                    \"{:0.1f}\".format(rf*100),\n",
    "                    \"{:0.1f}\".format(xgb*100)],\n",
    "    \n",
    "    'Train Score' : [\"{:0.1f}\".format(lr1*100),\n",
    "                    \"{:0.1f}\".format(nb1*100),\n",
    "                    \"{:0.1f}\".format(knn1*100),\n",
    "                    \"{:0.1f}\".format(svm1*100),\n",
    "                    \"{:0.1f}\".format(rf1*100),\n",
    "                    \"{:0.1f}\".format(xgb1*100)]\n",
    "}\n",
    "\n",
    "compare = pd.DataFrame(details)\n",
    "compare"
   ]
  },
  {
   "cell_type": "code",
   "execution_count": 92,
   "id": "1275cb7e",
   "metadata": {},
   "outputs": [
    {
     "data": {
      "image/png": "[encoded data removed]",
      "text/plain": [
       "<Figure size 504x504 with 1 Axes>"
      ]
     },
     "metadata": {
      "needs_background": "light"
     },
     "output_type": "display_data"
    }
   ],
   "source": [
    "plt.figure(figsize = (7,7))\n",
    "w = 0.4\n",
    "x = compare.Algorithm\n",
    "axis = np.arange(len(x))\n",
    "plt.bar(axis - 0.2, compare['Test Score'], 0.4, label = 'Test')\n",
    "plt.bar(axis + 0.2, compare['Train Score'], 0.4, label = 'Train')\n",
    "\n",
    "plt.xticks(axis, x, rotation = 'vertical')\n",
    "plt.xlabel(\"Algorithms\")\n",
    "plt.ylabel(\"Score\")\n",
    "plt.title('Comparison of Models')\n",
    "plt.legend()\n",
    "plt.show()"
   ]
  }
 ],
 "metadata": {
  "kernelspec": {
   "display_name": "Python 3",
   "language": "python",
   "name": "python3"
  },
  "language_info": {
   "codemirror_mode": {
    "name": "ipython",
    "version": 3
   },
   "file_extension": ".py",
   "mimetype": "text/x-python",
   "name": "python",
   "nbconvert_exporter": "python",
   "pygments_lexer": "ipython3",
   "version": "3.8.8"
  }
 },
 "nbformat": 4,
 "nbformat_minor": 5
}
